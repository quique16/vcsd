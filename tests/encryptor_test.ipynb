{
 "cells": [
  {
   "cell_type": "markdown",
   "metadata": {},
   "source": [
    "## Imports"
   ]
  },
  {
   "cell_type": "markdown",
   "metadata": {},
   "source": [
    "Dependencies"
   ]
  },
  {
   "cell_type": "code",
   "execution_count": 1,
   "metadata": {},
   "outputs": [],
   "source": [
    "import os\n",
    "import qrcode"
   ]
  },
  {
   "cell_type": "markdown",
   "metadata": {},
   "source": [
    "vcsd elements"
   ]
  },
  {
   "cell_type": "code",
   "execution_count": 2,
   "metadata": {},
   "outputs": [],
   "source": [
    "from vcsd.encryptor import CvedEncryptor as enc"
   ]
  },
  {
   "cell_type": "markdown",
   "metadata": {},
   "source": [
    "## Class instanciation"
   ]
  },
  {
   "cell_type": "code",
   "execution_count": 3,
   "metadata": {},
   "outputs": [],
   "source": [
    "encoder = enc()"
   ]
  },
  {
   "cell_type": "markdown",
   "metadata": {},
   "source": [
    "## QR code generation"
   ]
  },
  {
   "cell_type": "code",
   "execution_count": 4,
   "metadata": {},
   "outputs": [
    {
     "output_type": "stream",
     "name": "stdout",
     "text": "/Users/eiglesias/Desktop/vcsd/tests\n"
    }
   ],
   "source": [
    "!pwd"
   ]
  },
  {
   "cell_type": "markdown",
   "metadata": {},
   "source": [
    "Generation of a qrcode object"
   ]
  },
  {
   "cell_type": "code",
   "execution_count": 5,
   "metadata": {},
   "outputs": [
    {
     "output_type": "execute_result",
     "data": {
      "text/plain": "<qrcode.main.QRCode at 0x1107183d0>"
     },
     "metadata": {},
     "execution_count": 5
    }
   ],
   "source": [
    "encoder.generate_qr(\"hola mundo, que tal?\")"
   ]
  },
  {
   "cell_type": "markdown",
   "metadata": {},
   "source": [
    "### Save image of the generated qr code"
   ]
  },
  {
   "cell_type": "markdown",
   "metadata": {},
   "source": [
    "Without specifing location it store the file in the current directory (tests/ in this case)"
   ]
  },
  {
   "cell_type": "code",
   "execution_count": 8,
   "metadata": {},
   "outputs": [
    {
     "output_type": "execute_result",
     "data": {
      "text/plain": "<qrcode.main.QRCode at 0x1110782d0>"
     },
     "metadata": {},
     "execution_count": 8
    }
   ],
   "source": [
    "encoder.generate_qr(\"hola mundo, que tal?\", save_im=True)"
   ]
  },
  {
   "cell_type": "markdown",
   "metadata": {},
   "source": [
    "Specifying an existing location"
   ]
  },
  {
   "cell_type": "code",
   "execution_count": 9,
   "metadata": {},
   "outputs": [
    {
     "output_type": "execute_result",
     "data": {
      "text/plain": "<qrcode.main.QRCode at 0x111078910>"
     },
     "metadata": {},
     "execution_count": 9
    }
   ],
   "source": [
    "encoder.generate_qr(\"hola mundo, que tal?\", save_im=True, path_im=\"/Users/eiglesias/Desktop/vcsd_test/encryptor/image.png\")"
   ]
  },
  {
   "cell_type": "markdown",
   "metadata": {},
   "source": [
    "Specifying a location that doesn't exist"
   ]
  },
  {
   "cell_type": "code",
   "execution_count": 10,
   "metadata": {},
   "outputs": [
    {
     "output_type": "stream",
     "name": "stdout",
     "text": "Unable to find the path specified\n"
    },
    {
     "output_type": "execute_result",
     "data": {
      "text/plain": "<qrcode.main.QRCode at 0x111078d50>"
     },
     "metadata": {},
     "execution_count": 10
    }
   ],
   "source": [
    "encoder.generate_qr(\"hola mundo, que tal?\", save_im=True, path_im=\"/Users/eiglesias/Desktop/eo/image.png\")"
   ]
  },
  {
   "cell_type": "code",
   "execution_count": null,
   "metadata": {},
   "outputs": [],
   "source": []
  }
 ],
 "metadata": {
  "language_info": {
   "codemirror_mode": {
    "name": "ipython",
    "version": 3
   },
   "file_extension": ".py",
   "mimetype": "text/x-python",
   "name": "python",
   "nbconvert_exporter": "python",
   "pygments_lexer": "ipython3",
   "version": "3.7.7-final"
  },
  "orig_nbformat": 2,
  "kernelspec": {
   "name": "python37764bittfgcondae6c51bf319a94d269ceea823a918f745",
   "display_name": "Python 3.7.7 64-bit ('tfg': conda)"
  }
 },
 "nbformat": 4,
 "nbformat_minor": 2
}