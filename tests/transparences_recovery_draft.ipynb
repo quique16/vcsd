{
 "cells": [
  {
   "cell_type": "markdown",
   "metadata": {},
   "source": [
    "# Imports"
   ]
  },
  {
   "cell_type": "markdown",
   "metadata": {},
   "source": [
    "Dependecies"
   ]
  },
  {
   "cell_type": "code",
   "execution_count": 1,
   "metadata": {},
   "outputs": [],
   "source": [
    "import os\n",
    "import qrcode\n",
    "import numpy as np\n",
    "import random\n",
    "from PIL import Image\n",
    "import cv2\n",
    "from matplotlib import pyplot as plt"
   ]
  },
  {
   "cell_type": "code",
   "execution_count": 2,
   "metadata": {},
   "outputs": [],
   "source": [
    "emojis = {\n",
    "    \"check_mark_button\":    \"\\U00002705\",\n",
    "    \"cross_mark\":           \"\\U0000274C\"\n",
    "}"
   ]
  },
  {
   "cell_type": "markdown",
   "metadata": {},
   "source": [
    "# Transparency recovery test"
   ]
  },
  {
   "cell_type": "markdown",
   "metadata": {},
   "source": [
    "The recovery function takes two transpareces and use them to obtain a qr_code object"
   ]
  },
  {
   "cell_type": "markdown",
   "metadata": {},
   "source": [
    "## Image load"
   ]
  },
  {
   "cell_type": "markdown",
   "metadata": {},
   "source": [
    "Generic function to load images (with transparences of distorted transparences)"
   ]
  },
  {
   "cell_type": "code",
   "execution_count": 3,
   "metadata": {},
   "outputs": [],
   "source": [
    "# 1 - open the images\n",
    "def load_trans_im(path_im_A=\"\", path_im_B=\"\"):\n",
    "    \"\"\"\n",
    "    \"\"\"\n",
    "    if(path_im_A!=\"\" and path_im_B!=\"\"):\n",
    "        try:\n",
    "            im_trans_A = Image.open(path_im_A, mode=\"r\")\n",
    "            im_trans_B = Image.open(path_im_B, mode=\"r\")\n",
    "            print(emojis[\"check_mark_button\"] + f\" Transparence A successfully loaded from {path_im_A}\")\n",
    "            print(emojis[\"check_mark_button\"] + f\" Transparence B successfully loaded from {path_im_B}\")\n",
    "            return im_trans_A, im_trans_B\n",
    "        except:\n",
    "            print(emojis[\"cross_mark\"] + \" Unable to correctly load the image/s\")\n",
    "    else:\n",
    "        print(emojis[\"cross_mark\"] + f\" One or more paths to the image/s were not provided\")"
   ]
  },
  {
   "cell_type": "code",
   "execution_count": 4,
   "metadata": {},
   "outputs": [
    {
     "name": "stdout",
     "output_type": "stream",
     "text": [
      "/Users/eiglesias/Desktop/vcsd/tests\r\n"
     ]
    }
   ],
   "source": [
    "!pwd"
   ]
  },
  {
   "cell_type": "code",
   "execution_count": 5,
   "metadata": {},
   "outputs": [
    {
     "name": "stdout",
     "output_type": "stream",
     "text": [
      "✅ Transparence A successfully loaded from /Users/eiglesias/Desktop/vcsd_test/decryptor/trans_A.png\n",
      "✅ Transparence B successfully loaded from /Users/eiglesias/Desktop/vcsd_test/decryptor/trans_B.png\n"
     ]
    }
   ],
   "source": [
    "im_trans_A, im_trans_B = load_trans_im(path_im_A='/Users/eiglesias/Desktop/vcsd_test/decryptor/trans_A.png',\n",
    "                                       path_im_B='/Users/eiglesias/Desktop/vcsd_test/decryptor/trans_B.png')"
   ]
  },
  {
   "cell_type": "code",
   "execution_count": 6,
   "metadata": {},
   "outputs": [
    {
     "name": "stdout",
     "output_type": "stream",
     "text": [
      "<class 'PIL.PngImagePlugin.PngImageFile'>\n",
      "<class 'PIL.PngImagePlugin.PngImageFile'>\n"
     ]
    }
   ],
   "source": [
    "print(type(im_trans_A))\n",
    "print(type(im_trans_B))"
   ]
  },
  {
   "cell_type": "markdown",
   "metadata": {},
   "source": [
    "## Transparence extraction from the loaded images"
   ]
  },
  {
   "cell_type": "markdown",
   "metadata": {},
   "source": [
    " Generic function to convert an image of a transparence in a proper numpy array"
   ]
  },
  {
   "cell_type": "code",
   "execution_count": 7,
   "metadata": {},
   "outputs": [],
   "source": [
    "# 2 - transform images to numpy array format\n",
    "def gen_transparence_from_image(im):\n",
    "    \"\"\"\n",
    "    \"\"\"\n",
    "    trans_rgb = np.array(im)\n",
    "    trans = trans_rgb.mean(axis=2).astype(int)\n",
    "    trans = (trans/255).astype(int)\n",
    "    return trans"
   ]
  },
  {
   "cell_type": "code",
   "execution_count": 8,
   "metadata": {},
   "outputs": [
    {
     "name": "stdout",
     "output_type": "stream",
     "text": [
      "<class 'PIL.PngImagePlugin.PngImageFile'>\n",
      "<class 'PIL.PngImagePlugin.PngImageFile'>\n"
     ]
    }
   ],
   "source": [
    "print(type(im_trans_A))\n",
    "print(type(im_trans_B))"
   ]
  },
  {
   "cell_type": "code",
   "execution_count": 9,
   "metadata": {},
   "outputs": [
    {
     "name": "stdout",
     "output_type": "stream",
     "text": [
      "(42, 42)\n"
     ]
    }
   ],
   "source": [
    "print(im_trans_A.size)"
   ]
  },
  {
   "cell_type": "code",
   "execution_count": 10,
   "metadata": {},
   "outputs": [],
   "source": [
    "trans_A = gen_transparence_from_image(im_trans_A)\n",
    "trans_B = gen_transparence_from_image(im_trans_B)"
   ]
  },
  {
   "cell_type": "code",
   "execution_count": 11,
   "metadata": {},
   "outputs": [
    {
     "name": "stdout",
     "output_type": "stream",
     "text": [
      "Transparence A\n",
      "(42, 42)\n",
      "[[1 1 0 ... 1 0 1]\n",
      " [1 1 1 ... 0 1 0]\n",
      " [1 1 0 ... 0 0 0]\n",
      " ...\n",
      " [0 1 0 ... 1 0 0]\n",
      " [1 0 0 ... 0 0 1]\n",
      " [1 1 1 ... 0 0 0]]\n",
      "Transparence B\n",
      "(42, 42)\n",
      "[[0 0 1 ... 0 1 0]\n",
      " [0 0 0 ... 1 0 1]\n",
      " [0 0 0 ... 0 1 1]\n",
      " ...\n",
      " [1 0 0 ... 1 0 0]\n",
      " [0 1 1 ... 1 0 1]\n",
      " [0 0 0 ... 1 0 0]]\n"
     ]
    }
   ],
   "source": [
    "print(\"Transparence A\")\n",
    "print(trans_A.shape)\n",
    "print(trans_A)\n",
    "print(\"Transparence B\")\n",
    "print(trans_B.shape)\n",
    "print(trans_B)"
   ]
  },
  {
   "cell_type": "markdown",
   "metadata": {
    "heading_collapsed": true
   },
   "source": [
    "# Transparences decryption test"
   ]
  },
  {
   "cell_type": "markdown",
   "metadata": {
    "hidden": true
   },
   "source": [
    "To be completed"
   ]
  },
  {
   "cell_type": "code",
   "execution_count": 12,
   "metadata": {
    "hidden": true
   },
   "outputs": [],
   "source": [
    "def extract_transparences(trans_A, trans_B, load=False, path_trans_A=\"\", path_trans_B=\"\"):\n",
    "    \"\"\"\n",
    "    \"\"\"\n",
    "\n",
    "    if(load):\n",
    "        # 1 - Call the transparence image load function\n",
    "        im_trans_A, im_trans_B = load_trans_im(path_trans_A=path_im_A, path_trans_B=path_im_B)   \n",
    "        # 2 - Call the transparence recover function\n",
    "        trans_A = gen_transparence_from_image(im_trans_A)\n",
    "        trans_B = gen_transparence_from_image(im_trans_B)\n",
    "        \n",
    "    \n",
    "    # 3 - check size of transparence to know the correspondent qr code version to generate\n",
    "    # qr checkversion\n",
    "    # qr.make\n",
    "    \n",
    "    # 4 - extract binary matrix\n",
    "    \n",
    "    # 5 - recover QR code matrix applying visual criptography\n",
    "    \n",
    "    # 6 - convert that matrix into qr_code object\n",
    "    # qr.modules = matrix\n",
    "    \n",
    "    qr_code_matrix = np.array(qr_code.get_matrix()).astype(int)\n",
    "    trans_A = np.zeros([x * 2 for x in qr_code_matrix.shape], dtype=qr_code_matrix.dtype)\n",
    "    trans_B = np.zeros([x * 2 for x in qr_code_matrix.shape], dtype=qr_code_matrix.dtype)\n",
    "\n",
    "    it = np.nditer(trans_A, flags=['multi_index'])\n",
    "    submatrix_size = 2\n",
    "\n",
    "    while not it.finished:\n",
    "        ri = it.multi_index[0] % submatrix_size\n",
    "        rj = it.multi_index[1] % submatrix_size\n",
    "\n",
    "        random_bin = np.reshape(np.random.randint(2, size=submatrix_size**2), (submatrix_size,submatrix_size))\n",
    "\n",
    "        if ri == 0 and rj == 0:\n",
    "            start_row    = it.multi_index[0]\n",
    "            end_row      = it.multi_index[0] + submatrix_size\n",
    "            start_column = it.multi_index[1]\n",
    "            end_column   = it.multi_index[1] + submatrix_size\n",
    "            qr_row    = int(start_row/2)\n",
    "            qr_column = int(start_column/2)\n",
    "\n",
    "            if qr_code_matrix[qr_row, qr_column] == 0:\n",
    "                trans_A[start_row:end_row, start_column:end_column] = random_bin\n",
    "                trans_B[start_row:end_row, start_column:end_column] = random_bin\n",
    "            else:\n",
    "                trans_A[start_row:end_row, start_column:end_column] = random_bin\n",
    "                random_bin_inv = np.where(random_bin==0, 1, 0)\n",
    "                trans_B[start_row:end_row, start_column:end_column] = random_bin_inv \n",
    "\n",
    "        it.iternext()\n",
    "\n",
    "    return trans_A, trans_B"
   ]
  },
  {
   "cell_type": "code",
   "execution_count": null,
   "metadata": {
    "hidden": true
   },
   "outputs": [],
   "source": []
  }
 ],
 "metadata": {
  "kernelspec": {
   "display_name": "Python 3.7.7 64-bit ('tfg': conda)",
   "language": "python",
   "name": "python37764bittfgcondae6c51bf319a94d269ceea823a918f745"
  },
  "language_info": {
   "codemirror_mode": {
    "name": "ipython",
    "version": 3
   },
   "file_extension": ".py",
   "mimetype": "text/x-python",
   "name": "python",
   "nbconvert_exporter": "python",
   "pygments_lexer": "ipython3",
   "version": "3.7.7"
  },
  "toc": {
   "base_numbering": 1,
   "nav_menu": {},
   "number_sections": true,
   "sideBar": true,
   "skip_h1_title": false,
   "title_cell": "Table of Contents",
   "title_sidebar": "Contents",
   "toc_cell": false,
   "toc_position": {},
   "toc_section_display": true,
   "toc_window_display": false
  },
  "varInspector": {
   "cols": {
    "lenName": 16,
    "lenType": 16,
    "lenVar": 40
   },
   "kernels_config": {
    "python": {
     "delete_cmd_postfix": "",
     "delete_cmd_prefix": "del ",
     "library": "var_list.py",
     "varRefreshCmd": "print(var_dic_list())"
    },
    "r": {
     "delete_cmd_postfix": ") ",
     "delete_cmd_prefix": "rm(",
     "library": "var_list.r",
     "varRefreshCmd": "cat(var_dic_list()) "
    }
   },
   "types_to_exclude": [
    "module",
    "function",
    "builtin_function_or_method",
    "instance",
    "_Feature"
   ],
   "window_display": false
  }
 },
 "nbformat": 4,
 "nbformat_minor": 2
}
