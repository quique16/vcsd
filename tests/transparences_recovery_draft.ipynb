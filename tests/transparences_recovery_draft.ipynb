{
 "cells": [
  {
   "cell_type": "markdown",
   "metadata": {},
   "source": [
    "# Imports"
   ]
  },
  {
   "cell_type": "markdown",
   "metadata": {},
   "source": [
    "Dependecies"
   ]
  },
  {
   "cell_type": "code",
   "execution_count": 59,
   "metadata": {},
   "outputs": [],
   "source": [
    "import os\n",
    "import cv2\n",
    "import qrcode\n",
    "import random\n",
    "import numpy as np\n",
    "from PIL import Image\n",
    "from matplotlib import pyplot as plt"
   ]
  },
  {
   "cell_type": "code",
   "execution_count": 11,
   "metadata": {},
   "outputs": [],
   "source": [
    "emojis = {\n",
    "    \"check_mark_button\":    \"\\U00002705\",\n",
    "    \"cross_mark\":           \"\\U0000274C\",\n",
    "    \"magnifying_glass\":     \"\\U0001F50D\"\n",
    "}"
   ]
  },
  {
   "cell_type": "markdown",
   "metadata": {},
   "source": [
    "# Transparency recovery test"
   ]
  },
  {
   "cell_type": "markdown",
   "metadata": {},
   "source": [
    "The recovery function takes two transpareces and use them to obtain a qr_code object"
   ]
  },
  {
   "cell_type": "markdown",
   "metadata": {
    "heading_collapsed": true
   },
   "source": [
    "## Image load"
   ]
  },
  {
   "cell_type": "markdown",
   "metadata": {
    "hidden": true
   },
   "source": [
    "Generic function to load images (with transparences of distorted transparences)"
   ]
  },
  {
   "cell_type": "code",
   "execution_count": 7,
   "metadata": {
    "hidden": true
   },
   "outputs": [],
   "source": [
    "# 1 - open the images\n",
    "def load_trans_im(path_im_A=\"\", path_im_B=\"\"):\n",
    "    \"\"\"\n",
    "    \"\"\"\n",
    "    if(path_im_A!=\"\" and path_im_B!=\"\"):\n",
    "        try:\n",
    "            im_trans_A = Image.open(path_im_A, mode=\"r\")\n",
    "            im_trans_B = Image.open(path_im_B, mode=\"r\")\n",
    "            print(emojis[\"check_mark_button\"] + f\" Transparence A successfully loaded from {path_im_A}\")\n",
    "            print(emojis[\"check_mark_button\"] + f\" Transparence B successfully loaded from {path_im_B}\")\n",
    "            return im_trans_A, im_trans_B\n",
    "        except:\n",
    "            print(emojis[\"cross_mark\"] + \" Unable to correctly load the image/s\")\n",
    "    else:\n",
    "        print(emojis[\"cross_mark\"] + f\" One or more paths to the image/s were not provided\")"
   ]
  },
  {
   "cell_type": "code",
   "execution_count": null,
   "metadata": {
    "hidden": true
   },
   "outputs": [],
   "source": [
    "!pwd"
   ]
  },
  {
   "cell_type": "code",
   "execution_count": null,
   "metadata": {
    "hidden": true
   },
   "outputs": [],
   "source": [
    "im_trans_A, im_trans_B = load_trans_im(path_im_A='/Users/eiglesias/Desktop/vcsd_test/decryptor/trans_A.png',\n",
    "                                       path_im_B='/Users/eiglesias/Desktop/vcsd_test/decryptor/trans_B.png')"
   ]
  },
  {
   "cell_type": "code",
   "execution_count": null,
   "metadata": {
    "hidden": true
   },
   "outputs": [],
   "source": [
    "print(type(im_trans_A))\n",
    "print(type(im_trans_B))"
   ]
  },
  {
   "cell_type": "markdown",
   "metadata": {
    "heading_collapsed": true
   },
   "source": [
    "## Transparence extraction from the loaded images"
   ]
  },
  {
   "cell_type": "markdown",
   "metadata": {
    "hidden": true
   },
   "source": [
    " Generic function to convert an image of a transparence in a proper numpy array"
   ]
  },
  {
   "cell_type": "code",
   "execution_count": 6,
   "metadata": {
    "hidden": true
   },
   "outputs": [],
   "source": [
    "# 2 - transform images to numpy array format\n",
    "def gen_transparence_from_image(im):\n",
    "    \"\"\"\n",
    "    \"\"\"\n",
    "    trans_rgb = np.array(im)\n",
    "    trans = trans_rgb.mean(axis=2).astype(int)\n",
    "    trans = (trans/255).astype(int)\n",
    "    return trans"
   ]
  },
  {
   "cell_type": "code",
   "execution_count": null,
   "metadata": {
    "hidden": true
   },
   "outputs": [],
   "source": [
    "print(type(im_trans_A))\n",
    "print(type(im_trans_B))"
   ]
  },
  {
   "cell_type": "code",
   "execution_count": null,
   "metadata": {
    "hidden": true
   },
   "outputs": [],
   "source": [
    "print(im_trans_A.size)"
   ]
  },
  {
   "cell_type": "code",
   "execution_count": null,
   "metadata": {
    "hidden": true
   },
   "outputs": [],
   "source": [
    "trans_A = gen_transparence_from_image(im_trans_A)\n",
    "trans_B = gen_transparence_from_image(im_trans_B)"
   ]
  },
  {
   "cell_type": "code",
   "execution_count": null,
   "metadata": {
    "hidden": true
   },
   "outputs": [],
   "source": [
    "print(\"Transparence A\")\n",
    "print(trans_A.shape)\n",
    "print(trans_A)\n",
    "print(\"Transparence B\")\n",
    "print(trans_B.shape)\n",
    "print(trans_B)"
   ]
  },
  {
   "cell_type": "markdown",
   "metadata": {},
   "source": [
    "# Transparences decryption test"
   ]
  },
  {
   "cell_type": "markdown",
   "metadata": {},
   "source": [
    "## Functions to load and recover"
   ]
  },
  {
   "cell_type": "code",
   "execution_count": 8,
   "metadata": {},
   "outputs": [
    {
     "name": "stdout",
     "output_type": "stream",
     "text": [
      "✅ Transparence A successfully loaded from /Users/eiglesias/Desktop/vcsd_test/decryptor/trans_A.png\n",
      "✅ Transparence B successfully loaded from /Users/eiglesias/Desktop/vcsd_test/decryptor/trans_B.png\n"
     ]
    }
   ],
   "source": [
    "# 1 - Call the transparence image load function\n",
    "im_trans_A, im_trans_B = load_trans_im(path_im_A=\"/Users/eiglesias/Desktop/vcsd_test/decryptor/trans_A.png\",\n",
    "                                       path_im_B=\"/Users/eiglesias/Desktop/vcsd_test/decryptor/trans_B.png\")   \n",
    "\n",
    "# 2 - Call the transparence recover function\n",
    "trans_A = gen_transparence_from_image(im_trans_A)\n",
    "trans_B = gen_transparence_from_image(im_trans_B)"
   ]
  },
  {
   "cell_type": "code",
   "execution_count": 9,
   "metadata": {},
   "outputs": [
    {
     "name": "stdout",
     "output_type": "stream",
     "text": [
      "Transparence A\n",
      "(42, 42)\n",
      "[[1 1 0 ... 1 0 1]\n",
      " [1 1 1 ... 0 1 0]\n",
      " [1 1 0 ... 0 0 0]\n",
      " ...\n",
      " [0 1 0 ... 1 0 0]\n",
      " [1 0 0 ... 0 0 1]\n",
      " [1 1 1 ... 0 0 0]]\n",
      "Transparence B\n",
      "(42, 42)\n",
      "[[0 0 1 ... 0 1 0]\n",
      " [0 0 0 ... 1 0 1]\n",
      " [0 0 0 ... 0 1 1]\n",
      " ...\n",
      " [1 0 0 ... 1 0 0]\n",
      " [0 1 1 ... 1 0 1]\n",
      " [0 0 0 ... 1 0 0]]\n"
     ]
    }
   ],
   "source": [
    "print(\"Transparence A\")\n",
    "print(trans_A.shape)\n",
    "print(trans_A)\n",
    "print(\"Transparence B\")\n",
    "print(trans_B.shape)\n",
    "print(trans_B)"
   ]
  },
  {
   "cell_type": "markdown",
   "metadata": {
    "heading_collapsed": true
   },
   "source": [
    "## Check size and version"
   ]
  },
  {
   "cell_type": "code",
   "execution_count": null,
   "metadata": {
    "hidden": true
   },
   "outputs": [],
   "source": [
    "qr_size = round(len(trans_A)/2)\n",
    "print(qr_size)"
   ]
  },
  {
   "cell_type": "markdown",
   "metadata": {
    "hidden": true
   },
   "source": [
    "Generating the python dictionary"
   ]
  },
  {
   "cell_type": "code",
   "execution_count": null,
   "metadata": {
    "hidden": true
   },
   "outputs": [],
   "source": [
    "step = 4\n",
    "version1 = 21\n",
    "version40 = 177 + step"
   ]
  },
  {
   "cell_type": "code",
   "execution_count": null,
   "metadata": {
    "hidden": true
   },
   "outputs": [],
   "source": [
    "for idx, size in enumerate(range(version1, version40, step)):\n",
    "    if((idx+1)%5 != 0):\n",
    "        print(f'{size}: {idx+1},  \\t', end=\" \")\n",
    "    else:\n",
    "        print(f'{size}: {idx+1},  \\t', end=\"\\n\")"
   ]
  },
  {
   "cell_type": "code",
   "execution_count": null,
   "metadata": {
    "hidden": true
   },
   "outputs": [],
   "source": [
    "# size: version dictionary\n",
    "# keys   -> qr code sizes\n",
    "# values -> qr code version number\n",
    "qr_size_version_dict = {\n",
    "    21:  1,  \t 25:  2,  \t 29:  3,  \t 33:  4,  \t 37:  5,  \t\n",
    "    41:  6,  \t 45:  7,  \t 49:  8,  \t 53:  9,  \t 57:  10,  \t\n",
    "    61:  11,  \t 65:  12,  \t 69:  13,  \t 73:  14,  \t 77:  15,  \t\n",
    "    81:  16,  \t 85:  17,  \t 89:  18,  \t 93:  19,  \t 97:  20,  \t\n",
    "    101: 21,  \t 105: 22,  \t 109: 23,  \t 113: 24,  \t 117: 25,  \t\n",
    "    121: 26,  \t 125: 27,  \t 129: 28,  \t 133: 29,  \t 137: 30,  \t\n",
    "    141: 31,  \t 145: 32,  \t 149: 33,  \t 153: 34,  \t 157: 35,  \t\n",
    "    161: 36,  \t 165: 37,  \t 169: 38,  \t 173: 39,  \t 177: 40\n",
    "}"
   ]
  },
  {
   "cell_type": "code",
   "execution_count": null,
   "metadata": {
    "hidden": true
   },
   "outputs": [],
   "source": [
    "emojis = {\n",
    "    \"check_mark_button\":    \"\\U00002705\",\n",
    "    \"cross_mark\":           \"\\U0000274C\",\n",
    "    \"magnifying_glass\":     \"\\U0001F50D\"\n",
    "}"
   ]
  },
  {
   "cell_type": "code",
   "execution_count": null,
   "metadata": {
    "hidden": true
   },
   "outputs": [],
   "source": [
    "print(emojis[\"magnifying_glass\"] + f\" Loaded transparences correspond to a version {qr_size_version_dict[qr_size]} QR code\")"
   ]
  },
  {
   "cell_type": "markdown",
   "metadata": {},
   "source": [
    "## Check size nad version Final"
   ]
  },
  {
   "cell_type": "code",
   "execution_count": 12,
   "metadata": {},
   "outputs": [
    {
     "name": "stdout",
     "output_type": "stream",
     "text": [
      "✅ Loaded transparences are equally sized\n",
      "🔍 Loaded transparences correspond to a QR code version 1\n"
     ]
    }
   ],
   "source": [
    "# size: version dictionary\n",
    "# keys   -> qr code sizes\n",
    "# values -> qr code version number\n",
    "qr_size_version_dict = {\n",
    "    21:  1,  \t 25:  2,  \t 29:  3,  \t 33:  4,  \t 37:  5,  \t\n",
    "    41:  6,  \t 45:  7,  \t 49:  8,  \t 53:  9,  \t 57:  10,  \t\n",
    "    61:  11,  \t 65:  12,  \t 69:  13,  \t 73:  14,  \t 77:  15,  \t\n",
    "    81:  16,  \t 85:  17,  \t 89:  18,  \t 93:  19,  \t 97:  20,  \t\n",
    "    101: 21,  \t 105: 22,  \t 109: 23,  \t 113: 24,  \t 117: 25,  \t\n",
    "    121: 26,  \t 125: 27,  \t 129: 28,  \t 133: 29,  \t 137: 30,  \t\n",
    "    141: 31,  \t 145: 32,  \t 149: 33,  \t 153: 34,  \t 157: 35,  \t\n",
    "    161: 36,  \t 165: 37,  \t 169: 38,  \t 173: 39,  \t 177: 40\n",
    "}\n",
    "# 3 - check size of transparence to know the correspondent qr code version to generate\n",
    "if(len(trans_A) == len(trans_B)):\n",
    "    qr_size = round(len(trans_A)/2)\n",
    "    print(emojis[\"check_mark_button\"] + \" Loaded transparences are equally sized\")\n",
    "    detected_version = qr_size_version_dict[qr_size]\n",
    "    print(emojis[\"magnifying_glass\"] + f\" Loaded transparences correspond to a QR code version {detected_version}\")\n",
    "else:\n",
    "    print(emojis[\"cross_mark\"] + f\" There is size mismatch between both transparencies: {trans_A.shape} and {trans_B.shape}. They need to be equally sized\")"
   ]
  },
  {
   "cell_type": "markdown",
   "metadata": {
    "heading_collapsed": true
   },
   "source": [
    "## Extract binary matrix"
   ]
  },
  {
   "cell_type": "code",
   "execution_count": null,
   "metadata": {
    "hidden": true
   },
   "outputs": [],
   "source": [
    "# 5 - Recover QR code matrix applying visual criptography\n",
    "print(\"Transparence A\")\n",
    "print(type(trans_A))\n",
    "print(trans_A.shape)\n",
    "print(trans_A)\n",
    "print(\"Transparence B\")\n",
    "print(type(trans_B))\n",
    "print(trans_B.shape)\n",
    "print(trans_B)"
   ]
  },
  {
   "cell_type": "code",
   "execution_count": null,
   "metadata": {
    "hidden": true
   },
   "outputs": [],
   "source": [
    "qr_rec_XOR = trans_A != trans_B"
   ]
  },
  {
   "cell_type": "code",
   "execution_count": null,
   "metadata": {
    "hidden": true
   },
   "outputs": [],
   "source": [
    "print(qr_rec_XOR.shape)\n",
    "print(qr_rec_XOR)"
   ]
  },
  {
   "cell_type": "code",
   "execution_count": null,
   "metadata": {
    "hidden": true
   },
   "outputs": [],
   "source": [
    "submatrix_size = 2\n",
    "qr_rec = qr_rec_XOR[::submatrix_size, ::submatrix_size]"
   ]
  },
  {
   "cell_type": "code",
   "execution_count": null,
   "metadata": {
    "hidden": true,
    "scrolled": true
   },
   "outputs": [],
   "source": [
    "print(qr_rec.shape)\n",
    "print(qr_rec)"
   ]
  },
  {
   "cell_type": "code",
   "execution_count": null,
   "metadata": {
    "hidden": true
   },
   "outputs": [],
   "source": [
    "# just to check\n",
    "print(qr_rec.astype(int))"
   ]
  },
  {
   "cell_type": "code",
   "execution_count": null,
   "metadata": {
    "hidden": true
   },
   "outputs": [],
   "source": [
    "a = np.array([[1, 0, 1, 0],\n",
    "              [0, 0, 0, 0],\n",
    "              [1, 0, 1, 0],\n",
    "              [0, 0, 0, 0]])"
   ]
  },
  {
   "cell_type": "code",
   "execution_count": null,
   "metadata": {
    "hidden": true
   },
   "outputs": [],
   "source": [
    "submatrix_size = 2\n",
    "print(a[::submatrix_size, ::submatrix_size])"
   ]
  },
  {
   "cell_type": "markdown",
   "metadata": {},
   "source": [
    "## Extract binary matrixFinal"
   ]
  },
  {
   "cell_type": "code",
   "execution_count": 13,
   "metadata": {
    "scrolled": true
   },
   "outputs": [],
   "source": [
    "qr_rec_XOR = trans_A != trans_B\n",
    "submatrix_size = 2\n",
    "qr_matrix_rec = qr_rec_XOR[::submatrix_size, ::submatrix_size]\n",
    "qr_code = qrcode.QRCode(version=detected_version, border=1)\n",
    "qr_code.make(fit=True)"
   ]
  },
  {
   "cell_type": "markdown",
   "metadata": {},
   "source": [
    "## Convert the matrix into a QR code"
   ]
  },
  {
   "cell_type": "code",
   "execution_count": 14,
   "metadata": {},
   "outputs": [],
   "source": [
    "def save_image(im, path_im, im_name=\"/image_gen.png\"):\n",
    "        \"\"\"Save an image file from an image object\n",
    "        \n",
    "        Save a file with an image generated from an incoming image object\n",
    "\n",
    "        Parameters\n",
    "        ----------\n",
    "        im: object\n",
    "            Image object, instance of the PIL Image class\n",
    "        path_im: str\n",
    "            Absolute path where to store the qr image file\n",
    "        im_name: str, default=\"/image_gen.png\"\n",
    "            Name for the generated file\n",
    "        \"\"\"\n",
    "        if(path_im==\"\"):\n",
    "            try:\n",
    "                dirpath = os.getcwd() + im_name\n",
    "                im.save(dirpath, 'png')\n",
    "                print(emojis[\"check_mark_button\"] + f\" Image successfully saved at {dirpath}\")\n",
    "            except:\n",
    "                print(emojis[\"cross_mark\"] + \" Unable to correctly save the image\")\n",
    "        else:\n",
    "            try:\n",
    "                im.save(path_im, 'png')\n",
    "                print(emojis[\"check_mark_button\"] + f\" Image successfully saved at {path_im}\")\n",
    "            except:\n",
    "                print(emojis[\"cross_mark\"] + \" Unable to find the path specified\")"
   ]
  },
  {
   "cell_type": "code",
   "execution_count": 57,
   "metadata": {},
   "outputs": [
    {
     "name": "stdout",
     "output_type": "stream",
     "text": [
      "<class 'qrcode.image.pil.PilImage'>\n",
      " ▄▄▄▄▄▄▄  ▄▄ ▄ ▄▄▄▄▄▄▄ \n",
      " █ ▄▄▄ █ ▄▄█ ▀ █ ▄▄▄ █ \n",
      " █ ███ █ ██▄▄▄ █ ███ █ \n",
      " █▄▄▄▄▄█ █▀▄ █ █▄▄▄▄▄█ \n",
      " ▄ ▄▄▄▄▄ ▀  ▀█ ▄▄▄▄▄   \n",
      " ▀█▀ ▀▄▄▄█▀▀▄▀▄ ▀▄█ ▄▀ \n",
      " ▀ █▀▀▄▄▀█ ▄▄ ▄ ▀█▀▀ ▄ \n",
      " ▄▄▄▄▄▄▄ ▀█▄▀█▀█▄ ▀▄▄▀ \n",
      " █ ▄▄▄ █ ██▀▀█▀▀▄ ▀▀▄  \n",
      " █ ███ █ █▄▀▄▀▄ ▀▄▄█   \n",
      " █▄▄▄▄▄█ ▄ ▀▄ ▄ ▀█ █▄  \n",
      "                       \n"
     ]
    }
   ],
   "source": [
    "# 6 - convert that matrix into qr_code object\n",
    "qr_code.modules = qr_matrix_rec\n",
    "im_extracted = qr_code.make_image()\n",
    "print(type(im_extracted))\n",
    "qr_code.print_ascii()"
   ]
  },
  {
   "cell_type": "code",
   "execution_count": 16,
   "metadata": {},
   "outputs": [
    {
     "name": "stdout",
     "output_type": "stream",
     "text": [
      "/Users/eiglesias/Desktop/vcsd/tests\r\n"
     ]
    }
   ],
   "source": [
    "!pwd"
   ]
  },
  {
   "cell_type": "code",
   "execution_count": 17,
   "metadata": {},
   "outputs": [
    {
     "name": "stdout",
     "output_type": "stream",
     "text": [
      "✅ Image successfully saved at /Users/eiglesias/Desktop/vcsd_test/decryptor/qr_code_extracted.png\n"
     ]
    }
   ],
   "source": [
    "save_image(im=im_extracted, path_im=\"/Users/eiglesias/Desktop/vcsd_test/decryptor/qr_code_extracted.png\")"
   ]
  },
  {
   "cell_type": "code",
   "execution_count": 18,
   "metadata": {},
   "outputs": [],
   "source": [
    "import cv2\n",
    "from matplotlib import pyplot as plt"
   ]
  },
  {
   "cell_type": "code",
   "execution_count": 56,
   "metadata": {},
   "outputs": [
    {
     "name": "stdout",
     "output_type": "stream",
     "text": [
      "<class 'numpy.ndarray'>\n"
     ]
    },
    {
     "data": {
      "image/png": "[encoded data removed]",
      "text/plain": [
       "<Figure size 432x288 with 1 Axes>"
      ]
     },
     "metadata": {
      "needs_background": "light"
     },
     "output_type": "display_data"
    }
   ],
   "source": [
    "img_ext = cv2.imread(\"/Users/eiglesias/Desktop/vcsd_test/decryptor/qr_code_extracted.png\")\n",
    "print(type(img_ext))\n",
    "#print(img_ext)\n",
    "plt.imshow(img_ext)\n",
    "plt.title(\"Extracted QR\")\n",
    "plt.axis('off')\n",
    "plt.show()"
   ]
  },
  {
   "cell_type": "code",
   "execution_count": 51,
   "metadata": {},
   "outputs": [
    {
     "name": "stdout",
     "output_type": "stream",
     "text": [
      "Extracted message: hola\n"
     ]
    }
   ],
   "source": [
    "detector = cv2.QRCodeDetector()\n",
    "data, bbox, straight_qrcode = detector.detectAndDecode(img_ext)\n",
    "print(f\"Extracted message: {data}\")"
   ]
  },
  {
   "cell_type": "code",
   "execution_count": 58,
   "metadata": {},
   "outputs": [
    {
     "name": "stdout",
     "output_type": "stream",
     "text": [
      "<class 'qrcode.image.pil.PilImage'>\n",
      "<class 'numpy.ndarray'>\n"
     ]
    },
    {
     "data": {
      "image/png": "[encoded data removed]",
      "text/plain": [
       "<Figure size 432x288 with 1 Axes>"
      ]
     },
     "metadata": {
      "needs_background": "light"
     },
     "output_type": "display_data"
    },
    {
     "name": "stdout",
     "output_type": "stream",
     "text": [
      "Extracted message: hola\n"
     ]
    }
   ],
   "source": [
    "print(type(im_extracted))\n",
    "im_extracted = np.asarray(im_extracted.convert('RGB'))\n",
    "print(type(im_extracted))\n",
    "plt.imshow(im_extracted)\n",
    "plt.title(\"Extracted QR\")\n",
    "plt.axis('off')\n",
    "plt.show()\n",
    "\n",
    "detector = cv2.QRCodeDetector()\n",
    "data, bbox, straight_qrcode = detector.detectAndDecode(im_extracted)\n",
    "print(f\"Extracted message: {data}\")"
   ]
  },
  {
   "cell_type": "markdown",
   "metadata": {},
   "source": [
    "## Function"
   ]
  },
  {
   "cell_type": "markdown",
   "metadata": {},
   "source": [
    "Dictinary of sizes and versions"
   ]
  },
  {
   "cell_type": "code",
   "execution_count": 21,
   "metadata": {},
   "outputs": [],
   "source": [
    "# size: version dictionary\n",
    "# keys   -> qr code sizes\n",
    "# values -> qr code version number\n",
    "qr_size_version_dict = {\n",
    "    21:  1,  \t 25:  2,  \t 29:  3,  \t 33:  4,  \t 37:  5,  \t\n",
    "    41:  6,  \t 45:  7,  \t 49:  8,  \t 53:  9,  \t 57:  10,  \t\n",
    "    61:  11,  \t 65:  12,  \t 69:  13,  \t 73:  14,  \t 77:  15,  \t\n",
    "    81:  16,  \t 85:  17,  \t 89:  18,  \t 93:  19,  \t 97:  20,  \t\n",
    "    101: 21,  \t 105: 22,  \t 109: 23,  \t 113: 24,  \t 117: 25,  \t\n",
    "    121: 26,  \t 125: 27,  \t 129: 28,  \t 133: 29,  \t 137: 30,  \t\n",
    "    141: 31,  \t 145: 32,  \t 149: 33,  \t 153: 34,  \t 157: 35,  \t\n",
    "    161: 36,  \t 165: 37,  \t 169: 38,  \t 173: 39,  \t 177: 40\n",
    "}"
   ]
  },
  {
   "cell_type": "markdown",
   "metadata": {},
   "source": [
    "To be completed"
   ]
  },
  {
   "cell_type": "markdown",
   "metadata": {},
   "source": [
    "Think about isolating the load and validation part (steps 1 to 3)"
   ]
  },
  {
   "cell_type": "code",
   "execution_count": 69,
   "metadata": {},
   "outputs": [],
   "source": [
    "def load_im(path_im=\"\"):\n",
    "    \"\"\"Load an image file \n",
    "\n",
    "    Load an image file (in .png format) and return it as a PIL Image object\n",
    "\n",
    "    Parameters\n",
    "    ----------\n",
    "    path_im: str\n",
    "        Absolute path where the image (in .png format) is stored\n",
    "\n",
    "    Returns\n",
    "    -------\n",
    "    im: object\n",
    "        Image object, instance of the PIL Image class\n",
    "    \"\"\"\n",
    "    if(path_im!=\"\"):\n",
    "        try:\n",
    "            im = Image.open(path_im, mode=\"r\")\n",
    "            print(emojis[\"check_mark_button\"] + f\" Image successfully loaded from {path_im}\")\n",
    "            return im\n",
    "        except:\n",
    "            print(emojis[\"cross_mark\"] + f\" Unable to correctly load the image from {path_im}\")\n",
    "    else:\n",
    "        print(emojis[\"cross_mark\"] + \" The path to the image was not provided\")"
   ]
  },
  {
   "cell_type": "code",
   "execution_count": 70,
   "metadata": {},
   "outputs": [],
   "source": [
    "def load_and_validate_trans(path_im_A=\"\", path_im_B=\"\"):\n",
    "\n",
    "    # load transparence images\n",
    "    im_trans_A = load_im(path_im=path_im_A)\n",
    "    im_trans_B = load_im(path_im=path_im_B) \n",
    "    \n",
    "    # extract binary matrix\n",
    "    trans_A = gen_transparence_from_image(im_trans_A)\n",
    "    trans_B = gen_transparence_from_image(im_trans_B)\n",
    "    \n",
    "    # determine version of the hidden qr code\n",
    "    if(len(trans_A) == len(trans_B)):\n",
    "        print(emojis[\"check_mark_button\"] + \" Loaded transparences are equally sized\")\n",
    "        qr_size = round(len(trans_A)/2)\n",
    "        detected_version = qr_size_version_dict[qr_size]\n",
    "        print(emojis[\"magnifying_glass\"] + f\" Loaded transparences correspond to a QR code version {detected_version}\")\n",
    "    else:\n",
    "        print(emojis[\"cross_mark\"] + f\" There is size mismatch between both transparencies: {trans_A.shape} and {trans_B.shape}. They need to be equally sized\")\n",
    "        \n",
    "    return trans_A, trans_B"
   ]
  },
  {
   "cell_type": "code",
   "execution_count": 71,
   "metadata": {},
   "outputs": [
    {
     "name": "stdout",
     "output_type": "stream",
     "text": [
      "❌ The path to the image was not provided\n",
      "❌ The path to the image was not provided\n"
     ]
    },
    {
     "ename": "IndexError",
     "evalue": "tuple index out of range",
     "output_type": "error",
     "traceback": [
      "\u001b[0;31m---------------------------------------------------------------------------\u001b[0m",
      "\u001b[0;31mIndexError\u001b[0m                                Traceback (most recent call last)",
      "\u001b[0;32m<ipython-input-71-eba20b688900>\u001b[0m in \u001b[0;36m<module>\u001b[0;34m\u001b[0m\n\u001b[1;32m      1\u001b[0m \u001b[0;31m# obtain transparences and qr code version from the images provided\u001b[0m\u001b[0;34m\u001b[0m\u001b[0;34m\u001b[0m\u001b[0;34m\u001b[0m\u001b[0m\n\u001b[0;32m----> 2\u001b[0;31m \u001b[0mtrans_A\u001b[0m\u001b[0;34m,\u001b[0m \u001b[0mtrans_B\u001b[0m \u001b[0;34m=\u001b[0m \u001b[0mload_and_validate_trans\u001b[0m\u001b[0;34m(\u001b[0m\u001b[0mpath_im_A\u001b[0m\u001b[0;34m=\u001b[0m\u001b[0;34m\"\"\u001b[0m\u001b[0;34m,\u001b[0m \u001b[0mpath_im_B\u001b[0m\u001b[0;34m=\u001b[0m\u001b[0;34m\"\"\u001b[0m\u001b[0;34m)\u001b[0m\u001b[0;34m\u001b[0m\u001b[0;34m\u001b[0m\u001b[0m\n\u001b[0m",
      "\u001b[0;32m<ipython-input-70-65667aff8719>\u001b[0m in \u001b[0;36mload_and_validate_trans\u001b[0;34m(path_im_A, path_im_B)\u001b[0m\n\u001b[1;32m      6\u001b[0m \u001b[0;34m\u001b[0m\u001b[0m\n\u001b[1;32m      7\u001b[0m     \u001b[0;31m# extract binary matrix\u001b[0m\u001b[0;34m\u001b[0m\u001b[0;34m\u001b[0m\u001b[0;34m\u001b[0m\u001b[0m\n\u001b[0;32m----> 8\u001b[0;31m     \u001b[0mtrans_A\u001b[0m \u001b[0;34m=\u001b[0m \u001b[0mgen_transparence_from_image\u001b[0m\u001b[0;34m(\u001b[0m\u001b[0mim_trans_A\u001b[0m\u001b[0;34m)\u001b[0m\u001b[0;34m\u001b[0m\u001b[0;34m\u001b[0m\u001b[0m\n\u001b[0m\u001b[1;32m      9\u001b[0m     \u001b[0mtrans_B\u001b[0m \u001b[0;34m=\u001b[0m \u001b[0mgen_transparence_from_image\u001b[0m\u001b[0;34m(\u001b[0m\u001b[0mim_trans_B\u001b[0m\u001b[0;34m)\u001b[0m\u001b[0;34m\u001b[0m\u001b[0;34m\u001b[0m\u001b[0m\n\u001b[1;32m     10\u001b[0m \u001b[0;34m\u001b[0m\u001b[0m\n",
      "\u001b[0;32m<ipython-input-6-6e513d46c4d9>\u001b[0m in \u001b[0;36mgen_transparence_from_image\u001b[0;34m(im)\u001b[0m\n\u001b[1;32m      4\u001b[0m     \"\"\"\n\u001b[1;32m      5\u001b[0m     \u001b[0mtrans_rgb\u001b[0m \u001b[0;34m=\u001b[0m \u001b[0mnp\u001b[0m\u001b[0;34m.\u001b[0m\u001b[0marray\u001b[0m\u001b[0;34m(\u001b[0m\u001b[0mim\u001b[0m\u001b[0;34m)\u001b[0m\u001b[0;34m\u001b[0m\u001b[0;34m\u001b[0m\u001b[0m\n\u001b[0;32m----> 6\u001b[0;31m     \u001b[0mtrans\u001b[0m \u001b[0;34m=\u001b[0m \u001b[0mtrans_rgb\u001b[0m\u001b[0;34m.\u001b[0m\u001b[0mmean\u001b[0m\u001b[0;34m(\u001b[0m\u001b[0maxis\u001b[0m\u001b[0;34m=\u001b[0m\u001b[0;36m2\u001b[0m\u001b[0;34m)\u001b[0m\u001b[0;34m.\u001b[0m\u001b[0mastype\u001b[0m\u001b[0;34m(\u001b[0m\u001b[0mint\u001b[0m\u001b[0;34m)\u001b[0m\u001b[0;34m\u001b[0m\u001b[0;34m\u001b[0m\u001b[0m\n\u001b[0m\u001b[1;32m      7\u001b[0m     \u001b[0mtrans\u001b[0m \u001b[0;34m=\u001b[0m \u001b[0;34m(\u001b[0m\u001b[0mtrans\u001b[0m\u001b[0;34m/\u001b[0m\u001b[0;36m255\u001b[0m\u001b[0;34m)\u001b[0m\u001b[0;34m.\u001b[0m\u001b[0mastype\u001b[0m\u001b[0;34m(\u001b[0m\u001b[0mint\u001b[0m\u001b[0;34m)\u001b[0m\u001b[0;34m\u001b[0m\u001b[0;34m\u001b[0m\u001b[0m\n\u001b[1;32m      8\u001b[0m     \u001b[0;32mreturn\u001b[0m \u001b[0mtrans\u001b[0m\u001b[0;34m\u001b[0m\u001b[0;34m\u001b[0m\u001b[0m\n",
      "\u001b[0;32m~/anaconda3/envs/tfg/lib/python3.7/site-packages/numpy/core/_methods.py\u001b[0m in \u001b[0;36m_mean\u001b[0;34m(a, axis, dtype, out, keepdims)\u001b[0m\n\u001b[1;32m     60\u001b[0m \u001b[0;34m\u001b[0m\u001b[0m\n\u001b[1;32m     61\u001b[0m     \u001b[0mis_float16_result\u001b[0m \u001b[0;34m=\u001b[0m \u001b[0;32mFalse\u001b[0m\u001b[0;34m\u001b[0m\u001b[0;34m\u001b[0m\u001b[0m\n\u001b[0;32m---> 62\u001b[0;31m     \u001b[0mrcount\u001b[0m \u001b[0;34m=\u001b[0m \u001b[0m_count_reduce_items\u001b[0m\u001b[0;34m(\u001b[0m\u001b[0marr\u001b[0m\u001b[0;34m,\u001b[0m \u001b[0maxis\u001b[0m\u001b[0;34m)\u001b[0m\u001b[0;34m\u001b[0m\u001b[0;34m\u001b[0m\u001b[0m\n\u001b[0m\u001b[1;32m     63\u001b[0m     \u001b[0;31m# Make this warning show up first\u001b[0m\u001b[0;34m\u001b[0m\u001b[0;34m\u001b[0m\u001b[0;34m\u001b[0m\u001b[0m\n\u001b[1;32m     64\u001b[0m     \u001b[0;32mif\u001b[0m \u001b[0mrcount\u001b[0m \u001b[0;34m==\u001b[0m \u001b[0;36m0\u001b[0m\u001b[0;34m:\u001b[0m\u001b[0;34m\u001b[0m\u001b[0;34m\u001b[0m\u001b[0m\n",
      "\u001b[0;32m~/anaconda3/envs/tfg/lib/python3.7/site-packages/numpy/core/_methods.py\u001b[0m in \u001b[0;36m_count_reduce_items\u001b[0;34m(arr, axis)\u001b[0m\n\u001b[1;32m     53\u001b[0m     \u001b[0mitems\u001b[0m \u001b[0;34m=\u001b[0m \u001b[0;36m1\u001b[0m\u001b[0;34m\u001b[0m\u001b[0;34m\u001b[0m\u001b[0m\n\u001b[1;32m     54\u001b[0m     \u001b[0;32mfor\u001b[0m \u001b[0max\u001b[0m \u001b[0;32min\u001b[0m \u001b[0maxis\u001b[0m\u001b[0;34m:\u001b[0m\u001b[0;34m\u001b[0m\u001b[0;34m\u001b[0m\u001b[0m\n\u001b[0;32m---> 55\u001b[0;31m         \u001b[0mitems\u001b[0m \u001b[0;34m*=\u001b[0m \u001b[0marr\u001b[0m\u001b[0;34m.\u001b[0m\u001b[0mshape\u001b[0m\u001b[0;34m[\u001b[0m\u001b[0max\u001b[0m\u001b[0;34m]\u001b[0m\u001b[0;34m\u001b[0m\u001b[0;34m\u001b[0m\u001b[0m\n\u001b[0m\u001b[1;32m     56\u001b[0m     \u001b[0;32mreturn\u001b[0m \u001b[0mitems\u001b[0m\u001b[0;34m\u001b[0m\u001b[0;34m\u001b[0m\u001b[0m\n\u001b[1;32m     57\u001b[0m \u001b[0;34m\u001b[0m\u001b[0m\n",
      "\u001b[0;31mIndexError\u001b[0m: tuple index out of range"
     ]
    }
   ],
   "source": [
    "# obtain transparences and qr code version from the images provided\n",
    "trans_A, trans_B = load_and_validate_trans(path_im_A=\"\", path_im_B=\"\")"
   ]
  },
  {
   "cell_type": "code",
   "execution_count": 25,
   "metadata": {},
   "outputs": [],
   "source": [
    "def extract_qr_from_transparences(trans_A, trans_B):\n",
    "    \n",
    "    # recover QR code matrix applying visual criptography   \n",
    "    qr_rec_XOR = trans_A != trans_B\n",
    "    submatrix_size = 2\n",
    "    qr_matrix_rec = qr_rec_XOR[::submatrix_size, ::submatrix_size]\n",
    "\n",
    "    return qr_matrix_rec"
   ]
  },
  {
   "cell_type": "code",
   "execution_count": 73,
   "metadata": {},
   "outputs": [],
   "source": [
    "def extract_data_from_qr_matrix(qr_matrix_rec, save_im=False, path_im_QR_rec=\"\"):\n",
    "    \n",
    "    # convert that matrix into qr_code object\n",
    "    qr_version = qr_size_version_dict[len(qr_matrix_rec)]\n",
    "    qr_code = qrcode.QRCode(version=qr_version, border=1)\n",
    "    qr_code.make(fit=True)\n",
    "    qr_code.modules = qr_matrix_rec\n",
    "    \n",
    "    # obtain image object with the qr code extracted\n",
    "    im_qr_extracted = qr_code.make_image()\n",
    "    if(save_im):\n",
    "        save_image(im=im_qr_extracted, path_im=path_im_QR_rec)\n",
    "    \n",
    "    # use cv2 to extract the data from the qr image object\n",
    "    im_qr_extracted = np.asarray(im_qr_extracted.convert('RGB'))\n",
    "    detector = cv2.QRCodeDetector()\n",
    "    data, bbox, straight_qrcode = detector.detectAndDecode(im_qr_extracted)\n",
    "    \n",
    "    return data"
   ]
  },
  {
   "cell_type": "code",
   "execution_count": null,
   "metadata": {},
   "outputs": [],
   "source": []
  }
 ],
 "metadata": {
  "kernelspec": {
   "display_name": "Python 3.7.7 64-bit ('tfg': conda)",
   "language": "python",
   "name": "python37764bittfgcondae6c51bf319a94d269ceea823a918f745"
  },
  "language_info": {
   "codemirror_mode": {
    "name": "ipython",
    "version": 3
   },
   "file_extension": ".py",
   "mimetype": "text/x-python",
   "name": "python",
   "nbconvert_exporter": "python",
   "pygments_lexer": "ipython3",
   "version": "3.7.7"
  },
  "toc": {
   "base_numbering": 1,
   "nav_menu": {},
   "number_sections": true,
   "sideBar": true,
   "skip_h1_title": false,
   "title_cell": "Table of Contents",
   "title_sidebar": "Contents",
   "toc_cell": false,
   "toc_position": {},
   "toc_section_display": true,
   "toc_window_display": false
  },
  "varInspector": {
   "cols": {
    "lenName": 16,
    "lenType": 16,
    "lenVar": 40
   },
   "kernels_config": {
    "python": {
     "delete_cmd_postfix": "",
     "delete_cmd_prefix": "del ",
     "library": "var_list.py",
     "varRefreshCmd": "print(var_dic_list())"
    },
    "r": {
     "delete_cmd_postfix": ") ",
     "delete_cmd_prefix": "rm(",
     "library": "var_list.r",
     "varRefreshCmd": "cat(var_dic_list()) "
    }
   },
   "types_to_exclude": [
    "module",
    "function",
    "builtin_function_or_method",
    "instance",
    "_Feature"
   ],
   "window_display": false
  }
 },
 "nbformat": 4,
 "nbformat_minor": 2
}
