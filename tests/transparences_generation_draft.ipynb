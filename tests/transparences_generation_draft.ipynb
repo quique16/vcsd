{
 "cells": [
  {
   "cell_type": "markdown",
   "metadata": {
    "heading_collapsed": true
   },
   "source": [
    "# Imports"
   ]
  },
  {
   "cell_type": "markdown",
   "metadata": {
    "hidden": true
   },
   "source": [
    "Dependecies"
   ]
  },
  {
   "cell_type": "code",
   "execution_count": 1,
   "metadata": {
    "hidden": true
   },
   "outputs": [],
   "source": [
    "import os\n",
    "import qrcode\n",
    "import numpy as np\n",
    "import random"
   ]
  },
  {
   "cell_type": "code",
   "execution_count": 68,
   "metadata": {
    "hidden": true
   },
   "outputs": [],
   "source": [
    "emojis = {\n",
    "    \"check_mark_button\":    \"\\U00002705\",\n",
    "    \"cross_mark\":           \"\\U0000274C\"\n",
    "}"
   ]
  },
  {
   "cell_type": "markdown",
   "metadata": {
    "heading_collapsed": true
   },
   "source": [
    "# Binary matrix obtention"
   ]
  },
  {
   "cell_type": "code",
   "execution_count": 2,
   "metadata": {
    "hidden": true
   },
   "outputs": [
    {
     "name": "stdout",
     "output_type": "stream",
     "text": [
      "[[True, True, True, True, True, True, True, False, True, True, False, False, True, False, True, True, True, True, True, True, True], [True, False, False, False, False, False, True, False, False, False, True, True, False, False, True, False, False, False, False, False, True], [True, False, True, True, True, False, True, False, False, True, False, False, True, False, True, False, True, True, True, False, True], [True, False, True, True, True, False, True, False, True, False, True, False, True, False, True, False, True, True, True, False, True], [True, False, True, True, True, False, True, False, True, True, False, False, True, False, True, False, True, True, True, False, True], [True, False, False, False, False, False, True, False, True, True, True, True, False, False, True, False, False, False, False, False, True], [True, True, True, True, True, True, True, False, True, False, True, False, True, False, True, True, True, True, True, True, True], [False, False, False, False, False, False, False, False, True, True, True, True, True, False, False, False, False, False, False, False, False], [True, False, False, False, True, False, True, True, True, False, False, True, False, True, True, True, True, True, False, False, True], [True, False, False, False, True, True, False, False, True, True, True, True, True, False, False, True, False, True, True, True, False], [False, False, False, False, True, False, True, False, False, True, False, True, False, False, True, True, True, False, False, True, False], [False, True, True, True, True, True, False, False, True, False, True, False, False, True, True, False, True, False, False, False, False], [True, False, False, True, False, False, True, False, False, False, False, False, True, True, True, False, False, True, False, True, False], [False, False, False, False, False, False, False, False, True, False, False, False, True, True, True, False, False, False, False, True, False], [True, True, True, True, True, True, True, False, True, False, False, False, True, True, False, False, False, False, False, True, False], [True, False, False, False, False, False, True, False, False, True, False, True, True, False, False, True, False, True, False, True, True], [True, False, True, True, True, False, True, False, True, True, True, True, False, False, True, True, True, False, True, True, True], [True, False, True, True, True, False, True, False, False, True, False, True, True, False, False, True, False, True, False, True, True], [True, False, True, True, True, False, True, False, False, True, True, True, False, False, True, True, True, True, True, False, False], [True, False, False, False, False, False, True, False, False, False, False, False, False, True, True, False, True, False, True, False, False], [True, True, True, True, True, True, True, False, True, False, True, False, True, True, True, False, False, False, True, False, True]]\n"
     ]
    }
   ],
   "source": [
    "qr_code = qrcode.QRCode(border=0)\n",
    "qr_code.add_data('hey')\n",
    "qr_code.make(fit=True)\n",
    "im = qr_code.make_image()\n",
    "print(qr_code.get_matrix())"
   ]
  },
  {
   "cell_type": "markdown",
   "metadata": {
    "hidden": true
   },
   "source": [
    "## Obtaining QR matrix as a numpy array"
   ]
  },
  {
   "cell_type": "code",
   "execution_count": 3,
   "metadata": {
    "hidden": true
   },
   "outputs": [
    {
     "name": "stdout",
     "output_type": "stream",
     "text": [
      "<class 'list'>\n",
      "<class 'numpy.ndarray'>\n",
      "[[1 1 1 1 1 1 1 0 1 1 0 0 1 0 1 1 1 1 1 1 1]\n",
      " [1 0 0 0 0 0 1 0 0 0 1 1 0 0 1 0 0 0 0 0 1]\n",
      " [1 0 1 1 1 0 1 0 0 1 0 0 1 0 1 0 1 1 1 0 1]\n",
      " [1 0 1 1 1 0 1 0 1 0 1 0 1 0 1 0 1 1 1 0 1]\n",
      " [1 0 1 1 1 0 1 0 1 1 0 0 1 0 1 0 1 1 1 0 1]\n",
      " [1 0 0 0 0 0 1 0 1 1 1 1 0 0 1 0 0 0 0 0 1]\n",
      " [1 1 1 1 1 1 1 0 1 0 1 0 1 0 1 1 1 1 1 1 1]\n",
      " [0 0 0 0 0 0 0 0 1 1 1 1 1 0 0 0 0 0 0 0 0]\n",
      " [1 0 0 0 1 0 1 1 1 0 0 1 0 1 1 1 1 1 0 0 1]\n",
      " [1 0 0 0 1 1 0 0 1 1 1 1 1 0 0 1 0 1 1 1 0]\n",
      " [0 0 0 0 1 0 1 0 0 1 0 1 0 0 1 1 1 0 0 1 0]\n",
      " [0 1 1 1 1 1 0 0 1 0 1 0 0 1 1 0 1 0 0 0 0]\n",
      " [1 0 0 1 0 0 1 0 0 0 0 0 1 1 1 0 0 1 0 1 0]\n",
      " [0 0 0 0 0 0 0 0 1 0 0 0 1 1 1 0 0 0 0 1 0]\n",
      " [1 1 1 1 1 1 1 0 1 0 0 0 1 1 0 0 0 0 0 1 0]\n",
      " [1 0 0 0 0 0 1 0 0 1 0 1 1 0 0 1 0 1 0 1 1]\n",
      " [1 0 1 1 1 0 1 0 1 1 1 1 0 0 1 1 1 0 1 1 1]\n",
      " [1 0 1 1 1 0 1 0 0 1 0 1 1 0 0 1 0 1 0 1 1]\n",
      " [1 0 1 1 1 0 1 0 0 1 1 1 0 0 1 1 1 1 1 0 0]\n",
      " [1 0 0 0 0 0 1 0 0 0 0 0 0 1 1 0 1 0 1 0 0]\n",
      " [1 1 1 1 1 1 1 0 1 0 1 0 1 1 1 0 0 0 1 0 1]]\n",
      "(21, 21)\n"
     ]
    }
   ],
   "source": [
    "print(type(qr_code.get_matrix()))\n",
    "qrMatrix = np.array(qr_code.get_matrix()).astype(int)\n",
    "print(type(qrMatrix))\n",
    "qrMatrix = qrMatrix.astype(int)\n",
    "print(qrMatrix)\n",
    "print(qrMatrix.shape)"
   ]
  },
  {
   "cell_type": "markdown",
   "metadata": {
    "heading_collapsed": true,
    "hidden": true
   },
   "source": [
    "## Generating transparence base matrixes with numpy"
   ]
  },
  {
   "cell_type": "code",
   "execution_count": 4,
   "metadata": {
    "hidden": true
   },
   "outputs": [
    {
     "name": "stdout",
     "output_type": "stream",
     "text": [
      "(42, 42)\n",
      "[[0 0 0 ... 0 0 0]\n",
      " [0 0 0 ... 0 0 0]\n",
      " [0 0 0 ... 0 0 0]\n",
      " ...\n",
      " [0 0 0 ... 0 0 0]\n",
      " [0 0 0 ... 0 0 0]\n",
      " [0 0 0 ... 0 0 0]]\n",
      "Indexed element: 0\n"
     ]
    }
   ],
   "source": [
    "trans_A = np.zeros([x * 2 for x in qrMatrix.shape], dtype=qrMatrix.dtype)\n",
    "print(trans_A.shape)\n",
    "print(trans_A)\n",
    "print(f'Indexed element: {trans_A[3][4]}')"
   ]
  },
  {
   "cell_type": "markdown",
   "metadata": {
    "heading_collapsed": true
   },
   "source": [
    "# Operations with submatrixes"
   ]
  },
  {
   "cell_type": "markdown",
   "metadata": {
    "heading_collapsed": true,
    "hidden": true
   },
   "source": [
    "## Some matrix slicing"
   ]
  },
  {
   "cell_type": "code",
   "execution_count": 5,
   "metadata": {
    "hidden": true
   },
   "outputs": [
    {
     "name": "stdout",
     "output_type": "stream",
     "text": [
      "\n",
      "intial sequence\n",
      "[1 0 1 0]\n",
      "<class 'numpy.ndarray'>\n",
      "(4,)\n",
      "\n",
      "2x2 sequence\n",
      "[[1 0]\n",
      " [1 0]]\n",
      "<class 'numpy.ndarray'>\n",
      "(2, 2)\n",
      "\n",
      "1sr 2x2 sequence\n",
      "[[1 1]\n",
      " [1 0]]\n",
      "<class 'numpy.ndarray'>\n",
      "(2, 2)\n",
      "\n",
      "2nd 2x2 sequence\n",
      "[[1 0]\n",
      " [1 0]]\n",
      "<class 'numpy.ndarray'>\n",
      "(2, 2)\n"
     ]
    }
   ],
   "source": [
    "random_bin = np.random.randint(2, size=4)\n",
    "print('\\nintial sequence')\n",
    "print(random_bin)\n",
    "print(type(random_bin))\n",
    "print(random_bin.shape)\n",
    "random_bin = np.reshape(random_bin, (2,2))\n",
    "print('\\n2x2 sequence')\n",
    "print(random_bin)\n",
    "print(type(random_bin))\n",
    "print(random_bin.shape)\n",
    "submatrix = qrMatrix[0:2,0:2]\n",
    "print('\\n1sr 2x2 sequence')\n",
    "print(submatrix)\n",
    "print(type(submatrix))\n",
    "print(submatrix.shape)\n",
    "submatrix = qrMatrix[2:4,0:2]\n",
    "print('\\n2nd 2x2 sequence')\n",
    "print(submatrix)\n",
    "print(type(submatrix))\n",
    "print(submatrix.shape)"
   ]
  },
  {
   "cell_type": "markdown",
   "metadata": {
    "heading_collapsed": true,
    "hidden": true
   },
   "source": [
    "## Going through the submatrices inside a matrix"
   ]
  },
  {
   "cell_type": "code",
   "execution_count": 6,
   "metadata": {
    "hidden": true
   },
   "outputs": [
    {
     "name": "stdout",
     "output_type": "stream",
     "text": [
      "[[1 1 1 1 1 1 1 0 1 1 0 0 1 0 1 1 1 1 1 1 1]\n",
      " [1 0 0 0 0 0 1 0 0 0 1 1 0 0 1 0 0 0 0 0 1]\n",
      " [1 0 1 1 1 0 1 0 0 1 0 0 1 0 1 0 1 1 1 0 1]\n",
      " [1 0 1 1 1 0 1 0 1 0 1 0 1 0 1 0 1 1 1 0 1]\n",
      " [1 0 1 1 1 0 1 0 1 1 0 0 1 0 1 0 1 1 1 0 1]\n",
      " [1 0 0 0 0 0 1 0 1 1 1 1 0 0 1 0 0 0 0 0 1]\n",
      " [1 1 1 1 1 1 1 0 1 0 1 0 1 0 1 1 1 1 1 1 1]\n",
      " [0 0 0 0 0 0 0 0 1 1 1 1 1 0 0 0 0 0 0 0 0]\n",
      " [1 0 0 0 1 0 1 1 1 0 0 1 0 1 1 1 1 1 0 0 1]\n",
      " [1 0 0 0 1 1 0 0 1 1 1 1 1 0 0 1 0 1 1 1 0]\n",
      " [0 0 0 0 1 0 1 0 0 1 0 1 0 0 1 1 1 0 0 1 0]\n",
      " [0 1 1 1 1 1 0 0 1 0 1 0 0 1 1 0 1 0 0 0 0]\n",
      " [1 0 0 1 0 0 1 0 0 0 0 0 1 1 1 0 0 1 0 1 0]\n",
      " [0 0 0 0 0 0 0 0 1 0 0 0 1 1 1 0 0 0 0 1 0]\n",
      " [1 1 1 1 1 1 1 0 1 0 0 0 1 1 0 0 0 0 0 1 0]\n",
      " [1 0 0 0 0 0 1 0 0 1 0 1 1 0 0 1 0 1 0 1 1]\n",
      " [1 0 1 1 1 0 1 0 1 1 1 1 0 0 1 1 1 0 1 1 1]\n",
      " [1 0 1 1 1 0 1 0 0 1 0 1 1 0 0 1 0 1 0 1 1]\n",
      " [1 0 1 1 1 0 1 0 0 1 1 1 0 0 1 1 1 1 1 0 0]\n",
      " [1 0 0 0 0 0 1 0 0 0 0 0 0 1 1 0 1 0 1 0 0]\n",
      " [1 1 1 1 1 1 1 0 1 0 1 0 1 1 1 0 0 0 1 0 1]]\n",
      "(21, 21)\n"
     ]
    }
   ],
   "source": [
    "test_matrix = np.copy(qrMatrix)\n",
    "print(test_matrix)\n",
    "print(test_matrix.shape)"
   ]
  },
  {
   "cell_type": "code",
   "execution_count": 7,
   "metadata": {
    "hidden": true,
    "tags": [
     "outputPrepend"
    ]
   },
   "outputs": [
    {
     "name": "stdout",
     "output_type": "stream",
     "text": [
      "value: 1 index: (0, 0)\n",
      "value: 0 index: (0, 7)\n",
      "value: 1 index: (0, 14)\n",
      "value: 0 index: (7, 0)\n",
      "value: 0 index: (7, 7)\n",
      "value: 0 index: (7, 14)\n",
      "value: 1 index: (14, 0)\n",
      "value: 0 index: (14, 7)\n",
      "value: 0 index: (14, 14)\n"
     ]
    }
   ],
   "source": [
    "it = np.nditer(test_matrix, flags=['multi_index'])\n",
    "submatrix_size = 7\n",
    "while not it.finished:\n",
    "    ri = it.multi_index[0] % submatrix_size\n",
    "    rj = it.multi_index[1] % submatrix_size\n",
    "    if ri == 0 and rj == 0:\n",
    "        print(f'value: {it[0]} index: {it.multi_index}')\n",
    "    it.iternext()"
   ]
  },
  {
   "cell_type": "markdown",
   "metadata": {
    "heading_collapsed": true,
    "hidden": true
   },
   "source": [
    "## Submatrix to introduce"
   ]
  },
  {
   "cell_type": "code",
   "execution_count": 8,
   "metadata": {
    "hidden": true
   },
   "outputs": [],
   "source": [
    "test_submatrix = np.array([[0, 0, 0, 0, 0, 0, 1],\n",
    "                           [0, 0, 0, 0, 0, 1, 1],\n",
    "                           [0, 0, 0, 0, 1, 1, 1],\n",
    "                           [0, 0, 0, 1, 1, 1, 1],\n",
    "                           [0, 0, 1, 1, 1, 1, 1],\n",
    "                           [0, 1, 1, 1, 1, 1, 1],\n",
    "                           [1, 1, 1, 1, 1, 1, 1]])"
   ]
  },
  {
   "cell_type": "code",
   "execution_count": 9,
   "metadata": {
    "hidden": true
   },
   "outputs": [
    {
     "name": "stdout",
     "output_type": "stream",
     "text": [
      "[[0 0 0 0 0 0 1]\n",
      " [0 0 0 0 0 1 1]\n",
      " [0 0 0 0 1 1 1]\n",
      " [0 0 0 1 1 1 1]\n",
      " [0 0 1 1 1 1 1]\n",
      " [0 1 1 1 1 1 1]\n",
      " [1 1 1 1 1 1 1]]\n",
      "(7, 7)\n"
     ]
    }
   ],
   "source": [
    "print(test_submatrix)\n",
    "print(test_submatrix.shape)"
   ]
  },
  {
   "cell_type": "code",
   "execution_count": 10,
   "metadata": {
    "hidden": true,
    "scrolled": true
   },
   "outputs": [
    {
     "name": "stdout",
     "output_type": "stream",
     "text": [
      "==============================\n",
      "value: 1 index: (0, 0)\n",
      "rows: 0 - 7\n",
      "columns: 0 - 7\n",
      "------------------------------\n",
      "[[1 1 1 1 1 1 1]\n",
      " [1 0 0 0 0 0 1]\n",
      " [1 0 1 1 1 0 1]\n",
      " [1 0 1 1 1 0 1]\n",
      " [1 0 1 1 1 0 1]\n",
      " [1 0 0 0 0 0 1]\n",
      " [1 1 1 1 1 1 1]]\n",
      "------------------------------\n",
      "[[0 0 0 0 0 0 1]\n",
      " [0 0 0 0 0 1 1]\n",
      " [0 0 0 0 1 1 1]\n",
      " [0 0 0 1 1 1 1]\n",
      " [0 0 1 1 1 1 1]\n",
      " [0 1 1 1 1 1 1]\n",
      " [1 1 1 1 1 1 1]]\n",
      "==============================\n",
      "value: 0 index: (0, 7)\n",
      "rows: 0 - 7\n",
      "columns: 7 - 14\n",
      "------------------------------\n",
      "[[0 1 1 0 0 1 0]\n",
      " [0 0 0 1 1 0 0]\n",
      " [0 0 1 0 0 1 0]\n",
      " [0 1 0 1 0 1 0]\n",
      " [0 1 1 0 0 1 0]\n",
      " [0 1 1 1 1 0 0]\n",
      " [0 1 0 1 0 1 0]]\n",
      "------------------------------\n",
      "[[0 0 0 0 0 0 1]\n",
      " [0 0 0 0 0 1 1]\n",
      " [0 0 0 0 1 1 1]\n",
      " [0 0 0 1 1 1 1]\n",
      " [0 0 1 1 1 1 1]\n",
      " [0 1 1 1 1 1 1]\n",
      " [1 1 1 1 1 1 1]]\n",
      "==============================\n",
      "value: 1 index: (0, 14)\n",
      "rows: 0 - 7\n",
      "columns: 14 - 21\n",
      "------------------------------\n",
      "[[1 1 1 1 1 1 1]\n",
      " [1 0 0 0 0 0 1]\n",
      " [1 0 1 1 1 0 1]\n",
      " [1 0 1 1 1 0 1]\n",
      " [1 0 1 1 1 0 1]\n",
      " [1 0 0 0 0 0 1]\n",
      " [1 1 1 1 1 1 1]]\n",
      "------------------------------\n",
      "[[0 0 0 0 0 0 1]\n",
      " [0 0 0 0 0 1 1]\n",
      " [0 0 0 0 1 1 1]\n",
      " [0 0 0 1 1 1 1]\n",
      " [0 0 1 1 1 1 1]\n",
      " [0 1 1 1 1 1 1]\n",
      " [1 1 1 1 1 1 1]]\n",
      "==============================\n",
      "value: 0 index: (7, 0)\n",
      "rows: 7 - 14\n",
      "columns: 0 - 7\n",
      "------------------------------\n",
      "[[0 0 0 0 0 0 0]\n",
      " [1 0 0 0 1 0 1]\n",
      " [1 0 0 0 1 1 0]\n",
      " [0 0 0 0 1 0 1]\n",
      " [0 1 1 1 1 1 0]\n",
      " [1 0 0 1 0 0 1]\n",
      " [0 0 0 0 0 0 0]]\n",
      "------------------------------\n",
      "[[0 0 0 0 0 0 1]\n",
      " [0 0 0 0 0 1 1]\n",
      " [0 0 0 0 1 1 1]\n",
      " [0 0 0 1 1 1 1]\n",
      " [0 0 1 1 1 1 1]\n",
      " [0 1 1 1 1 1 1]\n",
      " [1 1 1 1 1 1 1]]\n",
      "==============================\n",
      "value: 0 index: (7, 7)\n",
      "rows: 7 - 14\n",
      "columns: 7 - 14\n",
      "------------------------------\n",
      "[[0 1 1 1 1 1 0]\n",
      " [1 1 0 0 1 0 1]\n",
      " [0 1 1 1 1 1 0]\n",
      " [0 0 1 0 1 0 0]\n",
      " [0 1 0 1 0 0 1]\n",
      " [0 0 0 0 0 1 1]\n",
      " [0 1 0 0 0 1 1]]\n",
      "------------------------------\n",
      "[[0 0 0 0 0 0 1]\n",
      " [0 0 0 0 0 1 1]\n",
      " [0 0 0 0 1 1 1]\n",
      " [0 0 0 1 1 1 1]\n",
      " [0 0 1 1 1 1 1]\n",
      " [0 1 1 1 1 1 1]\n",
      " [1 1 1 1 1 1 1]]\n",
      "==============================\n",
      "value: 0 index: (7, 14)\n",
      "rows: 7 - 14\n",
      "columns: 14 - 21\n",
      "------------------------------\n",
      "[[0 0 0 0 0 0 0]\n",
      " [1 1 1 1 0 0 1]\n",
      " [0 1 0 1 1 1 0]\n",
      " [1 1 1 0 0 1 0]\n",
      " [1 0 1 0 0 0 0]\n",
      " [1 0 0 1 0 1 0]\n",
      " [1 0 0 0 0 1 0]]\n",
      "------------------------------\n",
      "[[0 0 0 0 0 0 1]\n",
      " [0 0 0 0 0 1 1]\n",
      " [0 0 0 0 1 1 1]\n",
      " [0 0 0 1 1 1 1]\n",
      " [0 0 1 1 1 1 1]\n",
      " [0 1 1 1 1 1 1]\n",
      " [1 1 1 1 1 1 1]]\n",
      "==============================\n",
      "value: 1 index: (14, 0)\n",
      "rows: 14 - 21\n",
      "columns: 0 - 7\n",
      "------------------------------\n",
      "[[1 1 1 1 1 1 1]\n",
      " [1 0 0 0 0 0 1]\n",
      " [1 0 1 1 1 0 1]\n",
      " [1 0 1 1 1 0 1]\n",
      " [1 0 1 1 1 0 1]\n",
      " [1 0 0 0 0 0 1]\n",
      " [1 1 1 1 1 1 1]]\n",
      "------------------------------\n",
      "[[0 0 0 0 0 0 1]\n",
      " [0 0 0 0 0 1 1]\n",
      " [0 0 0 0 1 1 1]\n",
      " [0 0 0 1 1 1 1]\n",
      " [0 0 1 1 1 1 1]\n",
      " [0 1 1 1 1 1 1]\n",
      " [1 1 1 1 1 1 1]]\n",
      "==============================\n",
      "value: 0 index: (14, 7)\n",
      "rows: 14 - 21\n",
      "columns: 7 - 14\n",
      "------------------------------\n",
      "[[0 1 0 0 0 1 1]\n",
      " [0 0 1 0 1 1 0]\n",
      " [0 1 1 1 1 0 0]\n",
      " [0 0 1 0 1 1 0]\n",
      " [0 0 1 1 1 0 0]\n",
      " [0 0 0 0 0 0 1]\n",
      " [0 1 0 1 0 1 1]]\n",
      "------------------------------\n",
      "[[0 0 0 0 0 0 1]\n",
      " [0 0 0 0 0 1 1]\n",
      " [0 0 0 0 1 1 1]\n",
      " [0 0 0 1 1 1 1]\n",
      " [0 0 1 1 1 1 1]\n",
      " [0 1 1 1 1 1 1]\n",
      " [1 1 1 1 1 1 1]]\n",
      "==============================\n",
      "value: 0 index: (14, 14)\n",
      "rows: 14 - 21\n",
      "columns: 14 - 21\n",
      "------------------------------\n",
      "[[0 0 0 0 0 1 0]\n",
      " [0 1 0 1 0 1 1]\n",
      " [1 1 1 0 1 1 1]\n",
      " [0 1 0 1 0 1 1]\n",
      " [1 1 1 1 1 0 0]\n",
      " [1 0 1 0 1 0 0]\n",
      " [1 0 0 0 1 0 1]]\n",
      "------------------------------\n",
      "[[0 0 0 0 0 0 1]\n",
      " [0 0 0 0 0 1 1]\n",
      " [0 0 0 0 1 1 1]\n",
      " [0 0 0 1 1 1 1]\n",
      " [0 0 1 1 1 1 1]\n",
      " [0 1 1 1 1 1 1]\n",
      " [1 1 1 1 1 1 1]]\n"
     ]
    }
   ],
   "source": [
    "it = np.nditer(test_matrix, flags=['multi_index'])\n",
    "submatrix_size = 7\n",
    "while not it.finished:\n",
    "    ri = it.multi_index[0] % submatrix_size\n",
    "    rj = it.multi_index[1] % submatrix_size\n",
    "    if ri == 0 and rj == 0:\n",
    "        print(\"=\"*30)\n",
    "        print(f'value: {it[0]} index: {it.multi_index}')\n",
    "        start_row    = it.multi_index[0]\n",
    "        end_row      = it.multi_index[0] + submatrix_size\n",
    "        start_column = it.multi_index[1]\n",
    "        end_column   = it.multi_index[1] + submatrix_size\n",
    "        print(f'rows: {start_row} - {end_row}')\n",
    "        print(f'columns: {start_column} - {end_column}')\n",
    "        print(\"-\"*30)\n",
    "        print(test_matrix[start_row:end_row, start_column:end_column])\n",
    "        test_matrix[start_row:end_row, start_column:end_column] = test_submatrix\n",
    "        print(\"-\"*30)\n",
    "        print(test_matrix[start_row:end_row, start_column:end_column])\n",
    "    it.iternext()"
   ]
  },
  {
   "cell_type": "code",
   "execution_count": 11,
   "metadata": {
    "hidden": true
   },
   "outputs": [
    {
     "name": "stdout",
     "output_type": "stream",
     "text": [
      "[[0 0 0 0 0 0 1 0 0 0 0 0 0 1 0 0 0 0 0 0 1]\n",
      " [0 0 0 0 0 1 1 0 0 0 0 0 1 1 0 0 0 0 0 1 1]\n",
      " [0 0 0 0 1 1 1 0 0 0 0 1 1 1 0 0 0 0 1 1 1]\n",
      " [0 0 0 1 1 1 1 0 0 0 1 1 1 1 0 0 0 1 1 1 1]\n",
      " [0 0 1 1 1 1 1 0 0 1 1 1 1 1 0 0 1 1 1 1 1]\n",
      " [0 1 1 1 1 1 1 0 1 1 1 1 1 1 0 1 1 1 1 1 1]\n",
      " [1 1 1 1 1 1 1 1 1 1 1 1 1 1 1 1 1 1 1 1 1]\n",
      " [0 0 0 0 0 0 1 0 0 0 0 0 0 1 0 0 0 0 0 0 1]\n",
      " [0 0 0 0 0 1 1 0 0 0 0 0 1 1 0 0 0 0 0 1 1]\n",
      " [0 0 0 0 1 1 1 0 0 0 0 1 1 1 0 0 0 0 1 1 1]\n",
      " [0 0 0 1 1 1 1 0 0 0 1 1 1 1 0 0 0 1 1 1 1]\n",
      " [0 0 1 1 1 1 1 0 0 1 1 1 1 1 0 0 1 1 1 1 1]\n",
      " [0 1 1 1 1 1 1 0 1 1 1 1 1 1 0 1 1 1 1 1 1]\n",
      " [1 1 1 1 1 1 1 1 1 1 1 1 1 1 1 1 1 1 1 1 1]\n",
      " [0 0 0 0 0 0 1 0 0 0 0 0 0 1 0 0 0 0 0 0 1]\n",
      " [0 0 0 0 0 1 1 0 0 0 0 0 1 1 0 0 0 0 0 1 1]\n",
      " [0 0 0 0 1 1 1 0 0 0 0 1 1 1 0 0 0 0 1 1 1]\n",
      " [0 0 0 1 1 1 1 0 0 0 1 1 1 1 0 0 0 1 1 1 1]\n",
      " [0 0 1 1 1 1 1 0 0 1 1 1 1 1 0 0 1 1 1 1 1]\n",
      " [0 1 1 1 1 1 1 0 1 1 1 1 1 1 0 1 1 1 1 1 1]\n",
      " [1 1 1 1 1 1 1 1 1 1 1 1 1 1 1 1 1 1 1 1 1]]\n"
     ]
    }
   ],
   "source": [
    "print(test_matrix)"
   ]
  },
  {
   "cell_type": "markdown",
   "metadata": {
    "heading_collapsed": true
   },
   "source": [
    "# Generating submatrices with random binary values"
   ]
  },
  {
   "cell_type": "code",
   "execution_count": 12,
   "metadata": {
    "hidden": true
   },
   "outputs": [
    {
     "name": "stdout",
     "output_type": "stream",
     "text": [
      "[[1 1]\n",
      " [1 0]]\n",
      "[[0 0]\n",
      " [0 1]]\n"
     ]
    }
   ],
   "source": [
    "random_bin = np.reshape(np.random.randint(2, size=4), (2,2))\n",
    "#random_bin_inv = np.where((random_bin==0)|(random_bin==1), random_bin^1, random_bin)\n",
    "random_bin_inv = np.where(random_bin==0, 1, 0)\n",
    "print(random_bin)\n",
    "print(random_bin_inv)"
   ]
  },
  {
   "cell_type": "markdown",
   "metadata": {},
   "source": [
    "# Testing transparence generation with small matrix"
   ]
  },
  {
   "cell_type": "markdown",
   "metadata": {
    "heading_collapsed": true
   },
   "source": [
    "## Test mini matrix"
   ]
  },
  {
   "cell_type": "code",
   "execution_count": 13,
   "metadata": {
    "hidden": true
   },
   "outputs": [
    {
     "name": "stdout",
     "output_type": "stream",
     "text": [
      "[[0 1]\n",
      " [1 0]]\n"
     ]
    }
   ],
   "source": [
    "my_qr_test = np.array([[0, 1],\n",
    "                       [1, 0]])\n",
    "print(my_qr_test)"
   ]
  },
  {
   "cell_type": "markdown",
   "metadata": {
    "heading_collapsed": true
   },
   "source": [
    "## Tests transparences"
   ]
  },
  {
   "cell_type": "code",
   "execution_count": 14,
   "metadata": {
    "hidden": true
   },
   "outputs": [
    {
     "name": "stdout",
     "output_type": "stream",
     "text": [
      "[[0 0 0 0]\n",
      " [0 0 0 0]\n",
      " [0 0 0 0]\n",
      " [0 0 0 0]]\n",
      "[[0 0 0 0]\n",
      " [0 0 0 0]\n",
      " [0 0 0 0]\n",
      " [0 0 0 0]]\n"
     ]
    }
   ],
   "source": [
    "my_matrix_test_A = np.array([[0, 0, 0, 0],\n",
    "                            [0, 0, 0, 0],\n",
    "                            [0, 0, 0, 0],\n",
    "                            [0, 0, 0, 0]])\n",
    "my_matrix_test_B = np.array([[0, 0, 0, 0],\n",
    "                            [0, 0, 0, 0],\n",
    "                            [0, 0, 0, 0],\n",
    "                            [0, 0, 0, 0]])\n",
    "print(my_matrix_test_A)\n",
    "print(my_matrix_test_B)"
   ]
  },
  {
   "cell_type": "markdown",
   "metadata": {
    "heading_collapsed": true
   },
   "source": [
    "## Transparences generation"
   ]
  },
  {
   "cell_type": "code",
   "execution_count": 15,
   "metadata": {
    "hidden": true
   },
   "outputs": [
    {
     "name": "stdout",
     "output_type": "stream",
     "text": [
      "\n",
      "index: (0, 0)\n",
      "white\n",
      "\n",
      "index: (0, 2)\n",
      "black\n",
      "\n",
      "index: (2, 0)\n",
      "black\n",
      "\n",
      "index: (2, 2)\n",
      "white\n"
     ]
    }
   ],
   "source": [
    "it = np.nditer(my_matrix_test_A, flags=['multi_index'])\n",
    "submatrix_size = 2\n",
    "while not it.finished:\n",
    "    ri = it.multi_index[0] % submatrix_size\n",
    "    rj = it.multi_index[1] % submatrix_size\n",
    "    random_bin = np.reshape(np.random.randint(2, size=submatrix_size**2), (submatrix_size,submatrix_size))\n",
    "    if ri == 0 and rj == 0:\n",
    "        print(f'\\nindex: {it.multi_index}')\n",
    "        start_row    = it.multi_index[0]\n",
    "        end_row      = it.multi_index[0] + submatrix_size\n",
    "        start_column = it.multi_index[1]\n",
    "        end_column   = it.multi_index[1] + submatrix_size\n",
    "        qr_row    = int(start_row/2)\n",
    "        qr_column = int(start_column/2)\n",
    "        if my_qr_test[qr_row, qr_column] == 0:\n",
    "            print('white')\n",
    "            my_matrix_test_A[start_row:end_row, start_column:end_column] = random_bin\n",
    "            my_matrix_test_B[start_row:end_row, start_column:end_column] = random_bin\n",
    "        if my_qr_test[qr_row, qr_column] == 1:\n",
    "            print('black')\n",
    "            my_matrix_test_A[start_row:end_row, start_column:end_column] = random_bin\n",
    "            random_bin_inv = np.where(random_bin==0, 1, 0)\n",
    "            my_matrix_test_B[start_row:end_row, start_column:end_column] = random_bin_inv\n",
    "    it.iternext()"
   ]
  },
  {
   "cell_type": "markdown",
   "metadata": {
    "heading_collapsed": true
   },
   "source": [
    "## Results"
   ]
  },
  {
   "cell_type": "code",
   "execution_count": 16,
   "metadata": {
    "hidden": true
   },
   "outputs": [
    {
     "name": "stdout",
     "output_type": "stream",
     "text": [
      "[[0 1]\n",
      " [1 0]]\n",
      "\n",
      "\n",
      "[[0 1 0 0]\n",
      " [1 0 1 0]\n",
      " [0 1 0 1]\n",
      " [0 0 0 0]]\n",
      "\n",
      "\n",
      "[[0 1 1 1]\n",
      " [1 0 0 1]\n",
      " [1 0 0 1]\n",
      " [1 1 0 0]]\n"
     ]
    }
   ],
   "source": [
    "print(my_qr_test)\n",
    "print('\\n')\n",
    "print(my_matrix_test_A)\n",
    "print('\\n')\n",
    "print(my_matrix_test_B)"
   ]
  },
  {
   "cell_type": "markdown",
   "metadata": {},
   "source": [
    "# Resulting implementation"
   ]
  },
  {
   "cell_type": "markdown",
   "metadata": {
    "heading_collapsed": true
   },
   "source": [
    "## QR matrix"
   ]
  },
  {
   "cell_type": "code",
   "execution_count": 17,
   "metadata": {
    "hidden": true
   },
   "outputs": [
    {
     "name": "stdout",
     "output_type": "stream",
     "text": [
      "(21, 21)\n",
      "[[1 1 1 1 1 1 1 0 1 1 0 0 1 0 1 1 1 1 1 1 1]\n",
      " [1 0 0 0 0 0 1 0 0 0 1 1 0 0 1 0 0 0 0 0 1]\n",
      " [1 0 1 1 1 0 1 0 0 1 0 0 1 0 1 0 1 1 1 0 1]\n",
      " [1 0 1 1 1 0 1 0 1 0 1 0 1 0 1 0 1 1 1 0 1]\n",
      " [1 0 1 1 1 0 1 0 1 1 0 0 1 0 1 0 1 1 1 0 1]\n",
      " [1 0 0 0 0 0 1 0 1 1 1 1 0 0 1 0 0 0 0 0 1]\n",
      " [1 1 1 1 1 1 1 0 1 0 1 0 1 0 1 1 1 1 1 1 1]\n",
      " [0 0 0 0 0 0 0 0 1 1 1 1 1 0 0 0 0 0 0 0 0]\n",
      " [1 0 0 0 1 0 1 1 1 0 0 1 0 1 1 1 1 1 0 0 1]\n",
      " [1 0 0 0 1 1 0 0 1 1 1 1 1 0 0 1 0 1 1 1 0]\n",
      " [0 0 0 0 1 0 1 0 0 1 0 1 0 0 1 1 1 0 0 1 0]\n",
      " [0 1 1 1 1 1 0 0 1 0 1 0 0 1 1 0 1 0 0 0 0]\n",
      " [1 0 0 1 0 0 1 0 0 0 0 0 1 1 1 0 0 1 0 1 0]\n",
      " [0 0 0 0 0 0 0 0 1 0 0 0 1 1 1 0 0 0 0 1 0]\n",
      " [1 1 1 1 1 1 1 0 1 0 0 0 1 1 0 0 0 0 0 1 0]\n",
      " [1 0 0 0 0 0 1 0 0 1 0 1 1 0 0 1 0 1 0 1 1]\n",
      " [1 0 1 1 1 0 1 0 1 1 1 1 0 0 1 1 1 0 1 1 1]\n",
      " [1 0 1 1 1 0 1 0 0 1 0 1 1 0 0 1 0 1 0 1 1]\n",
      " [1 0 1 1 1 0 1 0 0 1 1 1 0 0 1 1 1 1 1 0 0]\n",
      " [1 0 0 0 0 0 1 0 0 0 0 0 0 1 1 0 1 0 1 0 0]\n",
      " [1 1 1 1 1 1 1 0 1 0 1 0 1 1 1 0 0 0 1 0 1]]\n"
     ]
    }
   ],
   "source": [
    "print(qrMatrix.shape)\n",
    "print(qrMatrix)"
   ]
  },
  {
   "cell_type": "markdown",
   "metadata": {
    "heading_collapsed": true
   },
   "source": [
    "## Transparences base matrices definition"
   ]
  },
  {
   "cell_type": "code",
   "execution_count": 18,
   "metadata": {
    "hidden": true
   },
   "outputs": [
    {
     "name": "stdout",
     "output_type": "stream",
     "text": [
      "(42, 42)\n",
      "[[0 0 0 ... 0 0 0]\n",
      " [0 0 0 ... 0 0 0]\n",
      " [0 0 0 ... 0 0 0]\n",
      " ...\n",
      " [0 0 0 ... 0 0 0]\n",
      " [0 0 0 ... 0 0 0]\n",
      " [0 0 0 ... 0 0 0]]\n",
      "(42, 42)\n",
      "[[0 0 0 ... 0 0 0]\n",
      " [0 0 0 ... 0 0 0]\n",
      " [0 0 0 ... 0 0 0]\n",
      " ...\n",
      " [0 0 0 ... 0 0 0]\n",
      " [0 0 0 ... 0 0 0]\n",
      " [0 0 0 ... 0 0 0]]\n"
     ]
    }
   ],
   "source": [
    "trans_A = np.zeros([x * 2 for x in qrMatrix.shape], dtype=qrMatrix.dtype)\n",
    "trans_B = np.zeros([x * 2 for x in qrMatrix.shape], dtype=qrMatrix.dtype)\n",
    "print(trans_A.shape)\n",
    "print(trans_A)\n",
    "print(trans_B.shape)\n",
    "print(trans_B)"
   ]
  },
  {
   "cell_type": "markdown",
   "metadata": {
    "heading_collapsed": true
   },
   "source": [
    "## Transparences generation"
   ]
  },
  {
   "cell_type": "code",
   "execution_count": 19,
   "metadata": {
    "hidden": true
   },
   "outputs": [],
   "source": [
    "it = np.nditer(trans_A, flags=['multi_index'])\n",
    "submatrix_size = 2\n",
    "while not it.finished:\n",
    "    ri = it.multi_index[0] % submatrix_size\n",
    "    rj = it.multi_index[1] % submatrix_size\n",
    "    random_bin = np.reshape(np.random.randint(2, size=submatrix_size**2), (submatrix_size,submatrix_size))\n",
    "    if ri == 0 and rj == 0:\n",
    "        #print(f'\\nindex: {it.multi_index}')\n",
    "        start_row    = it.multi_index[0]\n",
    "        end_row      = it.multi_index[0] + submatrix_size\n",
    "        start_column = it.multi_index[1]\n",
    "        end_column   = it.multi_index[1] + submatrix_size\n",
    "        qr_row    = int(start_row/2)\n",
    "        qr_column = int(start_column/2)\n",
    "        if qrMatrix[qr_row, qr_column] == 0:\n",
    "            #print('white')\n",
    "            trans_A[start_row:end_row, start_column:end_column] = random_bin\n",
    "            trans_B[start_row:end_row, start_column:end_column] = random_bin\n",
    "        if qrMatrix[qr_row, qr_column] == 1:\n",
    "            #print('black')\n",
    "            trans_A[start_row:end_row, start_column:end_column] = random_bin\n",
    "            random_bin_inv = np.where(random_bin==0, 1, 0)\n",
    "            trans_B[start_row:end_row, start_column:end_column] = random_bin_inv\n",
    "    it.iternext()"
   ]
  },
  {
   "cell_type": "markdown",
   "metadata": {
    "heading_collapsed": true
   },
   "source": [
    "## Results"
   ]
  },
  {
   "cell_type": "code",
   "execution_count": 20,
   "metadata": {
    "hidden": true
   },
   "outputs": [
    {
     "name": "stdout",
     "output_type": "stream",
     "text": [
      "[[1 1 1 1 1 1 1 0 1 1 0 0 1 0 1 1 1 1 1 1 1]\n",
      " [1 0 0 0 0 0 1 0 0 0 1 1 0 0 1 0 0 0 0 0 1]\n",
      " [1 0 1 1 1 0 1 0 0 1 0 0 1 0 1 0 1 1 1 0 1]\n",
      " [1 0 1 1 1 0 1 0 1 0 1 0 1 0 1 0 1 1 1 0 1]\n",
      " [1 0 1 1 1 0 1 0 1 1 0 0 1 0 1 0 1 1 1 0 1]\n",
      " [1 0 0 0 0 0 1 0 1 1 1 1 0 0 1 0 0 0 0 0 1]\n",
      " [1 1 1 1 1 1 1 0 1 0 1 0 1 0 1 1 1 1 1 1 1]\n",
      " [0 0 0 0 0 0 0 0 1 1 1 1 1 0 0 0 0 0 0 0 0]\n",
      " [1 0 0 0 1 0 1 1 1 0 0 1 0 1 1 1 1 1 0 0 1]\n",
      " [1 0 0 0 1 1 0 0 1 1 1 1 1 0 0 1 0 1 1 1 0]\n",
      " [0 0 0 0 1 0 1 0 0 1 0 1 0 0 1 1 1 0 0 1 0]\n",
      " [0 1 1 1 1 1 0 0 1 0 1 0 0 1 1 0 1 0 0 0 0]\n",
      " [1 0 0 1 0 0 1 0 0 0 0 0 1 1 1 0 0 1 0 1 0]\n",
      " [0 0 0 0 0 0 0 0 1 0 0 0 1 1 1 0 0 0 0 1 0]\n",
      " [1 1 1 1 1 1 1 0 1 0 0 0 1 1 0 0 0 0 0 1 0]\n",
      " [1 0 0 0 0 0 1 0 0 1 0 1 1 0 0 1 0 1 0 1 1]\n",
      " [1 0 1 1 1 0 1 0 1 1 1 1 0 0 1 1 1 0 1 1 1]\n",
      " [1 0 1 1 1 0 1 0 0 1 0 1 1 0 0 1 0 1 0 1 1]\n",
      " [1 0 1 1 1 0 1 0 0 1 1 1 0 0 1 1 1 1 1 0 0]\n",
      " [1 0 0 0 0 0 1 0 0 0 0 0 0 1 1 0 1 0 1 0 0]\n",
      " [1 1 1 1 1 1 1 0 1 0 1 0 1 1 1 0 0 0 1 0 1]]\n",
      "\n",
      "\n",
      "[[1 1 0 ... 1 1 1]\n",
      " [1 1 1 ... 1 1 1]\n",
      " [1 1 0 ... 0 0 0]\n",
      " ...\n",
      " [0 0 1 ... 1 1 1]\n",
      " [1 0 1 ... 1 1 0]\n",
      " [0 1 0 ... 1 1 1]]\n",
      "\n",
      "\n",
      "[[0 0 1 ... 0 0 0]\n",
      " [0 0 0 ... 0 0 0]\n",
      " [0 0 0 ... 0 1 1]\n",
      " ...\n",
      " [1 1 1 ... 1 1 1]\n",
      " [0 1 0 ... 1 0 1]\n",
      " [1 0 1 ... 1 0 0]]\n"
     ]
    }
   ],
   "source": [
    "print(qrMatrix)\n",
    "print('\\n')\n",
    "print(trans_A)\n",
    "print('\\n')\n",
    "print(trans_B)"
   ]
  },
  {
   "cell_type": "markdown",
   "metadata": {},
   "source": [
    "# Transparence generation test"
   ]
  },
  {
   "cell_type": "markdown",
   "metadata": {
    "heading_collapsed": true
   },
   "source": [
    "## Function"
   ]
  },
  {
   "cell_type": "code",
   "execution_count": 21,
   "metadata": {
    "hidden": true
   },
   "outputs": [],
   "source": [
    "def generate_transparences(qr_code):\n",
    "    '''\n",
    "    '''\n",
    "    qr_code_matrix = np.array(qr_code.get_matrix()).astype(int)\n",
    "    trans_A = np.zeros([x * 2 for x in qr_code_matrix.shape], dtype=qr_code_matrix.dtype)\n",
    "    trans_B = np.zeros([x * 2 for x in qr_code_matrix.shape], dtype=qr_code_matrix.dtype)\n",
    "    \n",
    "    it = np.nditer(trans_A, flags=['multi_index'])\n",
    "    submatrix_size = 2\n",
    "    \n",
    "    while not it.finished:\n",
    "        ri = it.multi_index[0] % submatrix_size\n",
    "        rj = it.multi_index[1] % submatrix_size\n",
    "        \n",
    "        random_bin = np.reshape(np.random.randint(2, size=submatrix_size**2), (submatrix_size,submatrix_size))\n",
    "        \n",
    "        if ri == 0 and rj == 0:\n",
    "            start_row    = it.multi_index[0]\n",
    "            end_row      = it.multi_index[0] + submatrix_size\n",
    "            start_column = it.multi_index[1]\n",
    "            end_column   = it.multi_index[1] + submatrix_size\n",
    "            qr_row    = int(start_row/2)\n",
    "            qr_column = int(start_column/2)\n",
    "            \n",
    "            if qr_code_matrix[qr_row, qr_column] == 0:\n",
    "                trans_A[start_row:end_row, start_column:end_column] = random_bin\n",
    "                trans_B[start_row:end_row, start_column:end_column] = random_bin\n",
    "            else:\n",
    "                trans_A[start_row:end_row, start_column:end_column] = random_bin\n",
    "                random_bin_inv = np.where(random_bin==0, 1, 0)\n",
    "                trans_B[start_row:end_row, start_column:end_column] = random_bin_inv\n",
    "                \n",
    "        it.iternext()\n",
    "    \n",
    "    return trans_A, trans_B"
   ]
  },
  {
   "cell_type": "markdown",
   "metadata": {
    "heading_collapsed": true
   },
   "source": [
    "## Function in action"
   ]
  },
  {
   "cell_type": "code",
   "execution_count": 22,
   "metadata": {
    "hidden": true
   },
   "outputs": [],
   "source": [
    "qr_code = qrcode.QRCode(border=0)\n",
    "qr_code.add_data('hola')\n",
    "qr_code.make(fit=True)"
   ]
  },
  {
   "cell_type": "code",
   "execution_count": 23,
   "metadata": {
    "hidden": true
   },
   "outputs": [
    {
     "name": "stdout",
     "output_type": "stream",
     "text": [
      "[[1 1 1 1 1 1 1 0 0 1 1 0 1 0 1 1 1 1 1 1 1]\n",
      " [1 0 0 0 0 0 1 0 0 0 1 0 1 0 1 0 0 0 0 0 1]\n",
      " [1 0 1 1 1 0 1 0 1 1 1 0 0 0 1 0 1 1 1 0 1]\n",
      " [1 0 1 1 1 0 1 0 1 1 0 0 0 0 1 0 1 1 1 0 1]\n",
      " [1 0 1 1 1 0 1 0 1 1 1 1 1 0 1 0 1 1 1 0 1]\n",
      " [1 0 0 0 0 0 1 0 1 1 0 0 1 0 1 0 0 0 0 0 1]\n",
      " [1 1 1 1 1 1 1 0 1 0 1 0 1 0 1 1 1 1 1 1 1]\n",
      " [0 0 0 0 0 0 0 0 1 0 0 1 1 0 0 0 0 0 0 0 0]\n",
      " [1 0 1 1 1 1 1 0 0 0 0 0 1 0 1 1 1 1 1 0 0]\n",
      " [1 1 1 0 1 0 0 0 1 1 1 0 1 0 0 1 0 1 0 0 1]\n",
      " [0 1 0 0 0 1 1 1 1 0 0 1 0 1 0 0 1 1 0 1 0]\n",
      " [1 0 1 1 1 0 0 1 1 0 0 0 0 0 0 1 1 1 1 0 0]\n",
      " [0 0 1 0 0 1 1 0 1 0 1 1 0 1 0 0 1 0 0 0 1]\n",
      " [0 0 0 0 0 0 0 0 1 1 0 1 1 1 1 0 0 1 0 0 1]\n",
      " [1 1 1 1 1 1 1 0 0 1 1 0 1 0 1 1 0 0 1 1 0]\n",
      " [1 0 0 0 0 0 1 0 1 1 1 1 1 1 1 0 0 1 1 0 0]\n",
      " [1 0 1 1 1 0 1 0 1 1 0 0 1 0 0 1 0 0 0 1 0]\n",
      " [1 0 1 1 1 0 1 0 1 0 1 0 1 0 0 1 0 0 1 0 0]\n",
      " [1 0 1 1 1 0 1 0 1 1 0 1 0 1 0 0 1 1 1 0 0]\n",
      " [1 0 0 0 0 0 1 0 0 0 1 0 0 0 0 1 1 0 1 0 0]\n",
      " [1 1 1 1 1 1 1 0 1 0 0 1 0 1 0 0 1 0 1 1 0]]\n"
     ]
    }
   ],
   "source": [
    "qr_code_matrix = np.array(qr_code.get_matrix()).astype(int)\n",
    "print(qr_code_matrix)"
   ]
  },
  {
   "cell_type": "code",
   "execution_count": 24,
   "metadata": {
    "hidden": true
   },
   "outputs": [],
   "source": [
    "trans_A, trans_B = generate_transparences(qr_code)"
   ]
  },
  {
   "cell_type": "code",
   "execution_count": 25,
   "metadata": {
    "hidden": true
   },
   "outputs": [
    {
     "name": "stdout",
     "output_type": "stream",
     "text": [
      "[[1 1 0 ... 1 0 1]\n",
      " [1 1 1 ... 0 1 0]\n",
      " [1 1 0 ... 0 0 0]\n",
      " ...\n",
      " [0 1 0 ... 1 0 0]\n",
      " [1 0 0 ... 0 0 1]\n",
      " [1 1 1 ... 0 0 0]]\n"
     ]
    }
   ],
   "source": [
    "print(trans_A)"
   ]
  },
  {
   "cell_type": "code",
   "execution_count": 26,
   "metadata": {
    "hidden": true
   },
   "outputs": [
    {
     "name": "stdout",
     "output_type": "stream",
     "text": [
      "[[0 0 1 ... 0 1 0]\n",
      " [0 0 0 ... 1 0 1]\n",
      " [0 0 0 ... 0 1 1]\n",
      " ...\n",
      " [1 0 0 ... 1 0 0]\n",
      " [0 1 1 ... 1 0 1]\n",
      " [0 0 0 ... 1 0 0]]\n"
     ]
    }
   ],
   "source": [
    "print(trans_B)"
   ]
  },
  {
   "cell_type": "markdown",
   "metadata": {
    "heading_collapsed": true
   },
   "source": [
    "# Image generation"
   ]
  },
  {
   "cell_type": "code",
   "execution_count": 27,
   "metadata": {
    "hidden": true
   },
   "outputs": [],
   "source": [
    "from PIL import Image\n",
    "import cv2\n",
    "from matplotlib import pyplot as plt"
   ]
  },
  {
   "cell_type": "code",
   "execution_count": 28,
   "metadata": {
    "hidden": true
   },
   "outputs": [
    {
     "name": "stdout",
     "output_type": "stream",
     "text": [
      "[[1 1 0 ... 1 0 1]\n",
      " [1 1 1 ... 0 1 0]\n",
      " [1 1 0 ... 0 0 0]\n",
      " ...\n",
      " [0 1 0 ... 1 0 0]\n",
      " [1 0 0 ... 0 0 1]\n",
      " [1 1 1 ... 0 0 0]]\n"
     ]
    }
   ],
   "source": [
    "print(trans_A)"
   ]
  },
  {
   "cell_type": "markdown",
   "metadata": {
    "heading_collapsed": true,
    "hidden": true
   },
   "source": [
    "## Expanding dimensions and converting to uint8 format"
   ]
  },
  {
   "cell_type": "code",
   "execution_count": 29,
   "metadata": {
    "hidden": true,
    "scrolled": true
   },
   "outputs": [
    {
     "name": "stdout",
     "output_type": "stream",
     "text": [
      "(42, 42, 1)\n"
     ]
    }
   ],
   "source": [
    "trans_A_im = np.expand_dims(255 * trans_A, axis=2)\n",
    "print(trans_A_im.shape)"
   ]
  },
  {
   "cell_type": "code",
   "execution_count": 31,
   "metadata": {
    "hidden": true,
    "scrolled": true
   },
   "outputs": [
    {
     "name": "stdout",
     "output_type": "stream",
     "text": [
      "(42, 42, 3)\n"
     ]
    }
   ],
   "source": [
    "trans_A_im = np.where(trans_A_im==[255], [255,255,255], [0,0,0])\n",
    "trans_A_im = trans_A_im.astype(np.uint8)\n",
    "print(trans_A_im.shape)"
   ]
  },
  {
   "cell_type": "code",
   "execution_count": 32,
   "metadata": {
    "hidden": true
   },
   "outputs": [],
   "source": [
    "im_trans_A = Image.fromarray(trans_A_im)"
   ]
  },
  {
   "cell_type": "code",
   "execution_count": 36,
   "metadata": {
    "hidden": true
   },
   "outputs": [
    {
     "name": "stdout",
     "output_type": "stream",
     "text": [
      "<class 'PIL.Image.Image'>\n",
      "(42, 42)\n"
     ]
    }
   ],
   "source": [
    "print(type(im_trans_A))\n",
    "print(im_trans_A.size)"
   ]
  },
  {
   "cell_type": "code",
   "execution_count": 37,
   "metadata": {
    "hidden": true
   },
   "outputs": [
    {
     "name": "stdout",
     "output_type": "stream",
     "text": [
      "/Users/eiglesias/Desktop/vcsd/tests\r\n"
     ]
    }
   ],
   "source": [
    "!pwd"
   ]
  },
  {
   "cell_type": "code",
   "execution_count": 42,
   "metadata": {
    "hidden": true
   },
   "outputs": [
    {
     "name": "stdout",
     "output_type": "stream",
     "text": [
      "(42, 42)\n"
     ]
    },
    {
     "data": {
      "image/png": "[encoded data removed]",
      "text/plain": [
       "<Figure size 432x288 with 1 Axes>"
      ]
     },
     "metadata": {
      "needs_background": "light"
     },
     "output_type": "display_data"
    }
   ],
   "source": [
    "im_trans_A.save(\"/Users/eiglesias/Desktop/vcsd_test/encryptor/trans_A_gen.png\", 'png')\n",
    "print(im_trans_A.size)\n",
    "plt.imshow(im_trans_A)\n",
    "plt.title('Transparence A')\n",
    "plt.axis('off')\n",
    "plt.show()"
   ]
  },
  {
   "cell_type": "code",
   "execution_count": 47,
   "metadata": {
    "hidden": true
   },
   "outputs": [
    {
     "name": "stdout",
     "output_type": "stream",
     "text": [
      "(42, 42)\n"
     ]
    }
   ],
   "source": [
    "loaded_im = Image.open(\"/Users/eiglesias/Desktop/vcsd_test/encryptor/trans_A_gen.png\",\n",
    "                       mode=\"r\")\n",
    "print(loaded_im.size)"
   ]
  },
  {
   "cell_type": "markdown",
   "metadata": {
    "heading_collapsed": true,
    "hidden": true
   },
   "source": [
    "## Function"
   ]
  },
  {
   "cell_type": "code",
   "execution_count": 49,
   "metadata": {
    "hidden": true
   },
   "outputs": [],
   "source": [
    "def gen_image_from_transparence(trans):\n",
    "    \"\"\"\n",
    "    \"\"\"\n",
    "    trans_im = np.expand_dims(255 *trans, axis=2)\n",
    "    trans_im = np.where(trans_im==[255], [255,255,255], [0,0,0]).astype(np.uint8)\n",
    "    im = Image.fromarray(trans_im)\n",
    "    return im"
   ]
  },
  {
   "cell_type": "code",
   "execution_count": 66,
   "metadata": {
    "hidden": true
   },
   "outputs": [],
   "source": [
    "def save_image(im, path_im, im_name=\"/image_gen.png\"):\n",
    "    \"\"\"\n",
    "    \"\"\"\n",
    "    if(path_im==\"\"):\n",
    "        try:\n",
    "            dirpath = os.getcwd() + im_name\n",
    "            im.save(dirpath, 'png')\n",
    "            print(emojis[\"check_mark_button\"] + f\" Image successfully saved at {dirpath}\")\n",
    "        except:\n",
    "            print(emojis[\"cross_mark\"] + \" Unable to correctly save the image\")\n",
    "    else:\n",
    "        try:\n",
    "            im.save(path_im, 'png')\n",
    "            print(emojis[\"check_mark_button\"] + f\" Image successfully saved at {path_im}\")\n",
    "        except:\n",
    "            print(emojis[\"cross_mark\"] + \" Unable to find the path specified\")"
   ]
  },
  {
   "cell_type": "markdown",
   "metadata": {
    "heading_collapsed": true,
    "hidden": true
   },
   "source": [
    "## Function in action"
   ]
  },
  {
   "cell_type": "code",
   "execution_count": 51,
   "metadata": {
    "hidden": true
   },
   "outputs": [
    {
     "name": "stdout",
     "output_type": "stream",
     "text": [
      "[[1 1 0 ... 1 0 1]\n",
      " [1 1 1 ... 0 1 0]\n",
      " [1 1 0 ... 0 0 0]\n",
      " ...\n",
      " [0 1 0 ... 1 0 0]\n",
      " [1 0 0 ... 0 0 1]\n",
      " [1 1 1 ... 0 0 0]]\n"
     ]
    }
   ],
   "source": [
    "print(trans_A)"
   ]
  },
  {
   "cell_type": "code",
   "execution_count": 52,
   "metadata": {
    "hidden": true
   },
   "outputs": [],
   "source": [
    "im_A = gen_image_from_transparence(trans_A)\n",
    "im_B = gen_image_from_transparence(trans_B)"
   ]
  },
  {
   "cell_type": "code",
   "execution_count": 59,
   "metadata": {
    "hidden": true
   },
   "outputs": [
    {
     "data": {
      "image/png": "[encoded data removed]",
      "text/plain": [
       "<Figure size 432x288 with 1 Axes>"
      ]
     },
     "metadata": {
      "needs_background": "light"
     },
     "output_type": "display_data"
    }
   ],
   "source": [
    "plt.imshow(im_A)\n",
    "plt.title(f'Transparence A {im_A.size}')\n",
    "plt.axis('off')\n",
    "plt.show()"
   ]
  },
  {
   "cell_type": "code",
   "execution_count": 60,
   "metadata": {
    "hidden": true
   },
   "outputs": [
    {
     "data": {
      "image/png": "[encoded data removed]",
      "text/plain": [
       "<Figure size 432x288 with 1 Axes>"
      ]
     },
     "metadata": {
      "needs_background": "light"
     },
     "output_type": "display_data"
    }
   ],
   "source": [
    "plt.imshow(im_B)\n",
    "plt.title(f'Transparence B {im_B.size}')\n",
    "plt.axis('off')\n",
    "plt.show()"
   ]
  },
  {
   "cell_type": "code",
   "execution_count": 69,
   "metadata": {
    "hidden": true
   },
   "outputs": [
    {
     "name": "stdout",
     "output_type": "stream",
     "text": [
      "✅ Image successfully saved at /Users/eiglesias/Desktop/vcsd_test/encryptor/trans_A.png\n",
      "✅ Image successfully saved at /Users/eiglesias/Desktop/vcsd_test/encryptor/trans_B.png\n"
     ]
    }
   ],
   "source": [
    "path_im_A = \"/Users/eiglesias/Desktop/vcsd_test/encryptor/trans_A.png\"\n",
    "path_im_B = \"/Users/eiglesias/Desktop/vcsd_test/encryptor/trans_B.png\"\n",
    "save_image(im=im_A, path_im=path_im_A, im_name=\"/trans_A_gen.png\")   \n",
    "save_image(im=im_B, path_im=path_im_B, im_name=\"/trans_B_gen.png\")"
   ]
  }
 ],
 "metadata": {
  "kernelspec": {
   "display_name": "Python 3.7.7 64-bit ('tfg': conda)",
   "language": "python",
   "name": "python37764bittfgcondae6c51bf319a94d269ceea823a918f745"
  },
  "language_info": {
   "codemirror_mode": {
    "name": "ipython",
    "version": 3
   },
   "file_extension": ".py",
   "mimetype": "text/x-python",
   "name": "python",
   "nbconvert_exporter": "python",
   "pygments_lexer": "ipython3",
   "version": "3.7.7"
  },
  "toc": {
   "base_numbering": 1,
   "nav_menu": {},
   "number_sections": true,
   "sideBar": true,
   "skip_h1_title": false,
   "title_cell": "Table of Contents",
   "title_sidebar": "Contents",
   "toc_cell": false,
   "toc_position": {},
   "toc_section_display": true,
   "toc_window_display": false
  },
  "varInspector": {
   "cols": {
    "lenName": 16,
    "lenType": 16,
    "lenVar": 40
   },
   "kernels_config": {
    "python": {
     "delete_cmd_postfix": "",
     "delete_cmd_prefix": "del ",
     "library": "var_list.py",
     "varRefreshCmd": "print(var_dic_list())"
    },
    "r": {
     "delete_cmd_postfix": ") ",
     "delete_cmd_prefix": "rm(",
     "library": "var_list.r",
     "varRefreshCmd": "cat(var_dic_list()) "
    }
   },
   "types_to_exclude": [
    "module",
    "function",
    "builtin_function_or_method",
    "instance",
    "_Feature"
   ],
   "window_display": false
  }
 },
 "nbformat": 4,
 "nbformat_minor": 2
}
